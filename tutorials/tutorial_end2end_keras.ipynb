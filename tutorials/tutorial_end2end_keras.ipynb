{
 "cells": [
  {
   "cell_type": "markdown",
   "metadata": {},
   "source": [
    "## Imports"
   ]
  },
  {
   "cell_type": "code",
   "execution_count": 1,
   "metadata": {
    "ExecuteTime": {
     "end_time": "2020-05-15T05:05:55.647960Z",
     "start_time": "2020-05-15T05:05:50.852370Z"
    }
   },
   "outputs": [],
   "source": [
    "from utensor_cgen.api.export import tflm_keras_export"
   ]
  },
  {
   "cell_type": "code",
   "execution_count": 2,
   "metadata": {
    "ExecuteTime": {
     "end_time": "2020-05-15T05:05:55.695968Z",
     "start_time": "2020-05-15T05:05:55.650241Z"
    }
   },
   "outputs": [],
   "source": [
    "import tensorflow as tf\n",
    "import numpy as np\n",
    "\n",
    "from tensorflow.keras.layers import Dense, Flatten, Conv2D, MaxPooling2D\n",
    "from tensorflow.keras import Model"
   ]
  },
  {
   "cell_type": "markdown",
   "metadata": {},
   "source": [
    "## Define Model"
   ]
  },
  {
   "cell_type": "code",
   "execution_count": 3,
   "metadata": {
    "ExecuteTime": {
     "end_time": "2020-05-15T05:05:55.728725Z",
     "start_time": "2020-05-15T05:05:55.703501Z"
    }
   },
   "outputs": [],
   "source": [
    "class MyModel(Model):\n",
    "    def __init__(self):\n",
    "        super(MyModel, self).__init__()\n",
    "        self.conv1 = Conv2D(32, 3, activation='relu')\n",
    "        self.pool = MaxPooling2D()\n",
    "        self.flatten = Flatten()\n",
    "        self.d1 = Dense(128, activation='relu')\n",
    "        self.d2 = Dense(10)\n",
    "\n",
    "    def call(self, x):\n",
    "        x0 = self.conv1(x)\n",
    "        x1 = self.pool(x0)\n",
    "        x2 = self.flatten(x1)\n",
    "        x3 = self.d1(x2)\n",
    "        return self.d2(x3)\n",
    "\n",
    "# Create an instance of the model\n",
    "model = MyModel()"
   ]
  },
  {
   "cell_type": "markdown",
   "metadata": {},
   "source": [
    "## Training"
   ]
  },
  {
   "cell_type": "code",
   "execution_count": 4,
   "metadata": {
    "ExecuteTime": {
     "end_time": "2020-05-15T05:05:56.343584Z",
     "start_time": "2020-05-15T05:05:55.738591Z"
    }
   },
   "outputs": [],
   "source": [
    "mnist = tf.keras.datasets.mnist\n",
    "\n",
    "(x_train, y_train), (x_test, y_test) = mnist.load_data()\n",
    "x_train, x_test = x_train / 255.0, x_test / 255.0\n",
    "\n",
    "# Add a channels dimension\n",
    "x_train = x_train[..., tf.newaxis]\n",
    "x_test = x_test[..., tf.newaxis]"
   ]
  },
  {
   "cell_type": "code",
   "execution_count": 5,
   "metadata": {
    "ExecuteTime": {
     "end_time": "2020-05-15T05:05:56.459120Z",
     "start_time": "2020-05-15T05:05:56.346028Z"
    }
   },
   "outputs": [],
   "source": [
    "train_ds = tf.data.Dataset.from_tensor_slices(\n",
    "    (x_train, y_train)\n",
    ").shuffle(10000).batch(32)\n",
    "\n",
    "test_ds = tf.data.Dataset.from_tensor_slices((x_test, y_test)).batch(32)"
   ]
  },
  {
   "cell_type": "code",
   "execution_count": 6,
   "metadata": {
    "ExecuteTime": {
     "end_time": "2020-05-15T05:05:57.304734Z",
     "start_time": "2020-05-15T05:05:57.279292Z"
    }
   },
   "outputs": [],
   "source": [
    "loss_object = tf.keras.losses.SparseCategoricalCrossentropy(from_logits=True)\n",
    "optimizer = tf.keras.optimizers.Adam()\n",
    "\n",
    "train_loss = tf.keras.metrics.Mean(name='train_loss')\n",
    "train_accuracy = tf.keras.metrics.SparseCategoricalAccuracy(name='train_accuracy')\n",
    "\n",
    "test_loss = tf.keras.metrics.Mean(name='test_loss')\n",
    "test_accuracy = tf.keras.metrics.SparseCategoricalAccuracy(name='test_accuracy')"
   ]
  },
  {
   "cell_type": "code",
   "execution_count": 7,
   "metadata": {
    "ExecuteTime": {
     "end_time": "2020-05-15T05:05:58.335194Z",
     "start_time": "2020-05-15T05:05:58.328305Z"
    }
   },
   "outputs": [],
   "source": [
    "@tf.function\n",
    "def train_step(images, labels):\n",
    "    with tf.GradientTape() as tape:\n",
    "        predictions = model(images, training=True)\n",
    "        loss = loss_object(labels, predictions)\n",
    "    gradients = tape.gradient(loss, model.trainable_variables)\n",
    "    optimizer.apply_gradients(zip(gradients, model.trainable_variables))\n",
    "\n",
    "    train_loss(loss)\n",
    "    train_accuracy(labels, predictions)"
   ]
  },
  {
   "cell_type": "code",
   "execution_count": 8,
   "metadata": {
    "ExecuteTime": {
     "end_time": "2020-05-15T05:05:58.533748Z",
     "start_time": "2020-05-15T05:05:58.528147Z"
    }
   },
   "outputs": [],
   "source": [
    "@tf.function\n",
    "def test_step(images, labels):\n",
    "    predictions = model(images, training=False)\n",
    "    t_loss = loss_object(labels, predictions)\n",
    "\n",
    "    test_loss(t_loss)\n",
    "    test_accuracy(labels, predictions)"
   ]
  },
  {
   "cell_type": "code",
   "execution_count": 9,
   "metadata": {
    "ExecuteTime": {
     "end_time": "2020-05-15T05:06:18.313997Z",
     "start_time": "2020-05-15T05:05:58.714583Z"
    }
   },
   "outputs": [
    {
     "name": "stdout",
     "output_type": "stream",
     "text": [
      "WARNING:tensorflow:Layer my_model is casting an input tensor from dtype float64 to the layer's dtype of float32, which is new behavior in TensorFlow 2.  The layer has dtype float32 because it's dtype defaults to floatx.\n",
      "\n",
      "If you intended to run this layer in float32, you can safely ignore this warning. If in doubt, this warning is likely only an issue if you are porting a TensorFlow 1.X model to TensorFlow 2.\n",
      "\n",
      "To change all layers to have dtype float64 by default, call `tf.keras.backend.set_floatx('float64')`. To change just this layer, pass dtype='float64' to the layer constructor. If you are the author of this layer, you can disable autocasting by passing autocast=False to the base Layer constructor.\n",
      "\n",
      "Epoch 1, Loss: 0.15297885239124298, Accuracy: 95.40499877929688, Test Loss: 0.057287149131298065, Test Accuracy: 98.05999755859375\n"
     ]
    }
   ],
   "source": [
    "EPOCHS = 1\n",
    "\n",
    "for epoch in range(EPOCHS):\n",
    "    # Reset the metrics at the start of the next epoch\n",
    "    train_loss.reset_states()\n",
    "    train_accuracy.reset_states()\n",
    "    test_loss.reset_states()\n",
    "    test_accuracy.reset_states()\n",
    "\n",
    "    for images, labels in train_ds:\n",
    "        train_step(images, labels)\n",
    "\n",
    "    for test_images, test_labels in test_ds:\n",
    "        test_step(test_images, test_labels)\n",
    "\n",
    "    template = 'Epoch {}, Loss: {}, Accuracy: {}, Test Loss: {}, Test Accuracy: {}'\n",
    "    print(template.format(epoch+1,\n",
    "                          train_loss.result(),\n",
    "                          train_accuracy.result()*100,\n",
    "                          test_loss.result(),\n",
    "                          test_accuracy.result()*100))"
   ]
  },
  {
   "cell_type": "code",
   "execution_count": 10,
   "metadata": {
    "ExecuteTime": {
     "end_time": "2020-05-15T05:06:18.810932Z",
     "start_time": "2020-05-15T05:06:18.318172Z"
    }
   },
   "outputs": [
    {
     "name": "stdout",
     "output_type": "stream",
     "text": [
      "WARNING:tensorflow:From /Users/dboyliao/Work/open_source/uTensor/utensor_cgen/.venv/lib/python3.6/site-packages/tensorflow_core/python/ops/resource_variable_ops.py:1786: calling BaseResourceVariable.__init__ (from tensorflow.python.ops.resource_variable_ops) with constraint is deprecated and will be removed in a future version.\n",
      "Instructions for updating:\n",
      "If using Keras pass *_constraint arguments to layers.\n",
      "INFO:tensorflow:Assets written to: saved_model/test_model/assets\n"
     ]
    }
   ],
   "source": [
    "model.save('saved_model/test_model')"
   ]
  },
  {
   "cell_type": "markdown",
   "metadata": {},
   "source": [
    "## Exporting to uTensor"
   ]
  },
  {
   "cell_type": "code",
   "execution_count": 11,
   "metadata": {
    "ExecuteTime": {
     "end_time": "2020-05-15T05:06:18.842782Z",
     "start_time": "2020-05-15T05:06:18.827021Z"
    }
   },
   "outputs": [],
   "source": [
    "# representative data function\n",
    "num_calibration_steps = 128\n",
    "calibration_dtype = tf.float32\n",
    "\n",
    "def representative_dataset_gen():\n",
    "    for _ in range(num_calibration_steps):\n",
    "        rand_idx = np.random.randint(0, x_test.shape[0]-1)\n",
    "        sample = x_test[rand_idx]\n",
    "        sample = sample[tf.newaxis, ...]\n",
    "        sample = tf.cast(sample, dtype=calibration_dtype)\n",
    "        yield [sample]"
   ]
  },
  {
   "cell_type": "code",
   "execution_count": 38,
   "metadata": {
    "ExecuteTime": {
     "end_time": "2020-05-15T05:18:35.653473Z",
     "start_time": "2020-05-15T05:18:27.383450Z"
    },
    "deletable": false,
    "editable": false,
    "run_control": {
     "frozen": true
    }
   },
   "outputs": [
    {
     "name": "stdout",
     "output_type": "stream",
     "text": [
      "[WARNING base.py __attrs_post_init__ @ 300] cannot convert new_shape to generic value: [1, 5408](<class 'list'>)\n",
      "[WARNING quantize.py <module> @ 12] trying to import deprecated quantization transformer\n",
      "[INFO transformer.py transform @ 23] Transforming graph: my_model\n",
      "[INFO transformer.py transform @ 24] Transform pipeline: dropout(name_pattern=r'(dropout[_\\w\\d]*)/.*') -> inline -> biasAdd -> remove_id_op\n",
      "[WARNING base.py __attrs_post_init__ @ 300] cannot convert new_shape to generic value: [1, 5408](<class 'list'>)\n",
      "[WARNING base.py __attrs_post_init__ @ 300] cannot convert new_shape to generic value: [1, 5408](<class 'list'>)\n",
      "[WARNING base.py __attrs_post_init__ @ 300] cannot convert new_shape to generic value: [1, 5408](<class 'list'>)\n",
      "[WARNING base.py __attrs_post_init__ @ 300] cannot convert new_shape to generic value: [1, 5408](<class 'list'>)\n",
      "[INFO transformer.py transform @ 28] Graph transormation done\n",
      "[INFO generic_graph_lower.py apply @ 56] topo ordered tensor life span analysis done\n",
      "[INFO utils.py wrapped @ 469] collapsed time of calling apply: 0.0243 seconds\n",
      "[INFO generic_graph_lower.py _solve_space_alloc @ 204] optimal tensor allocation plan solved, total memory required: 27040 bytes\n",
      "[INFO generic_graph_lower.py _solve_space_alloc @ 205] number of tensors allocated: 7\n",
      "[INFO utils.py wrapped @ 469] collapsed time of calling _solve_space_alloc: 0.0835 seconds\n",
      "[INFO _code_generator.py _generate_files @ 164] model parameters header file generated: data/my_model/params_my_model.hpp\n",
      "[INFO _code_generator.py _generate_files @ 180] model header file generated: models/my_model/my_model.hpp\n",
      "[INFO _code_generator.py _generate_files @ 188] model cpp file generated: models/my_model/my_model.cpp\n"
     ]
    }
   ],
   "source": [
    "tflm_keras_export(\n",
    "    'saved_model/test_model',\n",
    "    representive_dataset=representative_dataset_gen,\n",
    "    model_name='my_model',\n",
    "    target='utensor',\n",
    ")"
   ]
  },
  {
   "cell_type": "markdown",
   "metadata": {
    "ExecuteTime": {
     "end_time": "2020-05-15T05:22:31.997930Z",
     "start_time": "2020-05-15T05:22:31.986846Z"
    }
   },
   "source": [
    "### Generated Cpp File: `models/my_model/my_model.cpp`\n",
    "\n",
    "```cpp\n",
    "/* Auto-generated by utensor cli */\n",
    "#include \"uTensor.h\"\n",
    "#include \"models/my_model/my_model.hpp\"\n",
    "#include \"data/my_model/params_my_model.hpp\"\n",
    "#include <vector>\n",
    "\n",
    "\n",
    "using namespace uTensor;\n",
    "\n",
    "// start rendering global declare snippets\n",
    "// end of rendering global declare snippets\n",
    "\n",
    "void compute_my_model(Tensor& input_10, Tensor& Identity0){\n",
    "    // start rendering local declare snippets\n",
    "    MaxPoolOperator<int8_t> op_000({ 2, 2 }, { 1, 2, 2, 1 }, VALID);\n",
    "\n",
    "    ReshapeOperator<int8_t> op_001({ 1, 5408 });\n",
    "\n",
    "    TFLM::QuantizeOperator<int8_t, float> op_002;\n",
    "\n",
    "    QuantizedFullyConnectedOperator<int8_t> op_003(TFLM::TfLiteFusedActivation::kTfLiteActRelu);\n",
    "\n",
    "    QuantizedFullyConnectedOperator<int8_t> op_004(TFLM::TfLiteFusedActivation::kTfLiteActNone);\n",
    "\n",
    "    TFLM::DequantizeOperator<float, int8_t> op_005;\n",
    "\n",
    "    QuantizedDepthwiseSeparableConvOperator<int8_t> op_006({ 1, 1 }, VALID, 32, { 1, 1 }, TFLM::TfLiteFusedActivation::kTfLiteActRelu);\n",
    "\n",
    "    Tensor input_1_int80 = new RamTensor({ 1, 28, 28, 1 }, i8);\n",
    "    int input_1_int80_zp = -128;\n",
    "    float input_1_int80_scale = 0.003921569;\n",
    "    PerTensorQuantizationParams input_1_int80_quant_params(input_1_int80_zp, input_1_int80_scale);\n",
    "    input_1_int80->set_quantization_params(input_1_int80_quant_params);\n",
    "\n",
    "    Tensor StatefulPartitionedCallmy_modelconv2dRelu0 = new RamTensor({ 1, 26, 26, 32 }, i8);\n",
    "    int StatefulPartitionedCallmy_modelconv2dRelu0_zp = -128;\n",
    "    float StatefulPartitionedCallmy_modelconv2dRelu0_scale = 0.0026465168;\n",
    "    PerTensorQuantizationParams StatefulPartitionedCallmy_modelconv2dRelu0_quant_params(StatefulPartitionedCallmy_modelconv2dRelu0_zp, StatefulPartitionedCallmy_modelconv2dRelu0_scale);\n",
    "    StatefulPartitionedCallmy_modelconv2dRelu0->set_quantization_params(StatefulPartitionedCallmy_modelconv2dRelu0_quant_params);\n",
    "\n",
    "    Tensor StatefulPartitionedCallmy_modelmax_pooling2dMaxPool0 = new RamTensor({ 1, 13, 13, 32 }, i8);\n",
    "    int StatefulPartitionedCallmy_modelmax_pooling2dMaxPool0_zp = -128;\n",
    "    float StatefulPartitionedCallmy_modelmax_pooling2dMaxPool0_scale = 0.0026465168;\n",
    "    PerTensorQuantizationParams StatefulPartitionedCallmy_modelmax_pooling2dMaxPool0_quant_params(StatefulPartitionedCallmy_modelmax_pooling2dMaxPool0_zp, StatefulPartitionedCallmy_modelmax_pooling2dMaxPool0_scale);\n",
    "    StatefulPartitionedCallmy_modelmax_pooling2dMaxPool0->set_quantization_params(StatefulPartitionedCallmy_modelmax_pooling2dMaxPool0_quant_params);\n",
    "\n",
    "    Tensor StatefulPartitionedCallmy_modeldenseRelu0 = new RamTensor({ 1, 128 }, i8);\n",
    "    int StatefulPartitionedCallmy_modeldenseRelu0_zp = -128;\n",
    "    float StatefulPartitionedCallmy_modeldenseRelu0_scale = 0.023930669;\n",
    "    PerTensorQuantizationParams StatefulPartitionedCallmy_modeldenseRelu0_quant_params(StatefulPartitionedCallmy_modeldenseRelu0_zp, StatefulPartitionedCallmy_modeldenseRelu0_scale);\n",
    "    StatefulPartitionedCallmy_modeldenseRelu0->set_quantization_params(StatefulPartitionedCallmy_modeldenseRelu0_quant_params);\n",
    "\n",
    "    Tensor Identity_int80 = new RamTensor({ 1, 10 }, i8);\n",
    "    int Identity_int80_zp = -13;\n",
    "    float Identity_int80_scale = 0.113923624;\n",
    "    PerTensorQuantizationParams Identity_int80_quant_params(Identity_int80_zp, Identity_int80_scale);\n",
    "    Identity_int80->set_quantization_params(Identity_int80_quant_params);\n",
    "\n",
    "    Tensor StatefulPartitionedCallmy_modelmax_pooling2dMaxPool_0_Reshape00 = new RamTensor({ 1, 5408 }, i8);\n",
    "    int StatefulPartitionedCallmy_modelmax_pooling2dMaxPool_0_Reshape00_zp = -128;\n",
    "    float StatefulPartitionedCallmy_modelmax_pooling2dMaxPool_0_Reshape00_scale = 0.0026465168;\n",
    "    PerTensorQuantizationParams StatefulPartitionedCallmy_modelmax_pooling2dMaxPool_0_Reshape00_quant_params(StatefulPartitionedCallmy_modelmax_pooling2dMaxPool_0_Reshape00_zp, StatefulPartitionedCallmy_modelmax_pooling2dMaxPool_0_Reshape00_scale);\n",
    "    StatefulPartitionedCallmy_modelmax_pooling2dMaxPool_0_Reshape00->set_quantization_params(StatefulPartitionedCallmy_modelmax_pooling2dMaxPool_0_Reshape00_quant_params);\n",
    "\n",
    "    Tensor StatefulPartitionedCallmy_modelconv2dConv2DReadVariableOp0 = new RomTensor({ 1, 3, 3, 32 }, i8, data_StatefulPartitionedCall_my_model_conv2d_Conv2D_ReadVariableOp_0);\n",
    "    int arr_StatefulPartitionedCallmy_modelconv2dConv2DReadVariableOp0_zp[32] = { 0, 0, 0, 0, 0, 0, 0, 0, 0, 0, 0, 0, 0, 0, 0, 0, 0, 0, 0, 0, 0, 0, 0, 0, 0, 0, 0, 0, 0, 0, 0, 0 };\n",
    "    float arr_StatefulPartitionedCallmy_modelconv2dConv2DReadVariableOp0_scale[32] = { 0.0019741713, 0.0011097809, 0.001178485, 0.0018986871, 0.0031697543, 0.0022199969, 0.0034489078, 0.0010821758, 0.0037110085, 0.00084193127, 0.002423992, 0.0017963316, 0.0010024284, 0.002468313, 0.0011061964, 0.0012666524, 0.0029382005, 0.0011719828, 0.0027343666, 0.0015651162, 0.0027160055, 0.0038842058, 0.0012370645, 0.0010993244, 0.0022167282, 0.0023632639, 0.002288837, 0.002926964, 0.0019453545, 0.0011736463, 0.0014855345, 0.002383109 };\n",
    "    PerChannelQuantizationParams StatefulPartitionedCallmy_modelconv2dConv2DReadVariableOp0_quant_params(arr_StatefulPartitionedCallmy_modelconv2dConv2DReadVariableOp0_zp, arr_StatefulPartitionedCallmy_modelconv2dConv2DReadVariableOp0_scale);\n",
    "    StatefulPartitionedCallmy_modelconv2dConv2DReadVariableOp0->set_quantization_params(StatefulPartitionedCallmy_modelconv2dConv2DReadVariableOp0_quant_params);\n",
    "\n",
    "    Tensor StatefulPartitionedCallmy_modelconv2dConv2D_bias0 = new RomTensor({ 32 }, i32, data_StatefulPartitionedCall_my_model_conv2d_Conv2D_bias_0);\n",
    "    int32_t arr_StatefulPartitionedCallmy_modelconv2dConv2D_bias0_zp[32] = { 0, 0, 0, 0, 0, 0, 0, 0, 0, 0, 0, 0, 0, 0, 0, 0, 0, 0, 0, 0, 0, 0, 0, 0, 0, 0, 0, 0, 0, 0, 0, 0 };\n",
    "    float arr_StatefulPartitionedCallmy_modelconv2dConv2D_bias0_scale[32] = { 7.741848e-06, 4.352082e-06, 4.62151e-06, 7.445832e-06, 1.243041e-05, 8.705871e-06, 1.3525129e-05, 4.243827e-06, 1.4552975e-05, 3.3016913e-06, 9.505851e-06, 7.044438e-06, 3.9310917e-06, 9.679659e-06, 4.3380255e-06, 4.9672644e-06, 1.1522356e-05, 4.5960114e-06, 1.0723007e-05, 6.137711e-06, 1.0651002e-05, 1.5232181e-05, 4.8512334e-06, 4.3110763e-06, 8.693052e-06, 9.267702e-06, 8.975831e-06, 1.14782915e-05, 7.6288416e-06, 4.602535e-06, 5.8256255e-06, 9.3455255e-06 };\n",
    "    PerChannelQuantizationParams StatefulPartitionedCallmy_modelconv2dConv2D_bias0_quant_params(arr_StatefulPartitionedCallmy_modelconv2dConv2D_bias0_zp, arr_StatefulPartitionedCallmy_modelconv2dConv2D_bias0_scale);\n",
    "    StatefulPartitionedCallmy_modelconv2dConv2D_bias0->set_quantization_params(StatefulPartitionedCallmy_modelconv2dConv2D_bias0_quant_params);\n",
    "\n",
    "    Tensor StatefulPartitionedCallmy_modeldenseMatMulReadVariableOptranspose0 = new RomTensor({ 5408, 128 }, i8, data_StatefulPartitionedCall_my_model_dense_MatMul_ReadVariableOp_transpose_0);\n",
    "    int StatefulPartitionedCallmy_modeldenseMatMulReadVariableOptranspose0_zp = 0;\n",
    "    float StatefulPartitionedCallmy_modeldenseMatMulReadVariableOptranspose0_scale = 0.0022179913;\n",
    "    PerTensorQuantizationParams StatefulPartitionedCallmy_modeldenseMatMulReadVariableOptranspose0_quant_params(StatefulPartitionedCallmy_modeldenseMatMulReadVariableOptranspose0_zp, StatefulPartitionedCallmy_modeldenseMatMulReadVariableOptranspose0_scale);\n",
    "    StatefulPartitionedCallmy_modeldenseMatMulReadVariableOptranspose0->set_quantization_params(StatefulPartitionedCallmy_modeldenseMatMulReadVariableOptranspose0_quant_params);\n",
    "\n",
    "    Tensor StatefulPartitionedCallmy_modeldenseMatMul_bias0 = new RomTensor({ 128 }, i32, data_StatefulPartitionedCall_my_model_dense_MatMul_bias_0);\n",
    "    int32_t StatefulPartitionedCallmy_modeldenseMatMul_bias0_zp = 0;\n",
    "    float StatefulPartitionedCallmy_modeldenseMatMul_bias0_scale = 5.869951e-06;\n",
    "    PerTensorQuantizationParams StatefulPartitionedCallmy_modeldenseMatMul_bias0_quant_params(StatefulPartitionedCallmy_modeldenseMatMul_bias0_zp, StatefulPartitionedCallmy_modeldenseMatMul_bias0_scale);\n",
    "    StatefulPartitionedCallmy_modeldenseMatMul_bias0->set_quantization_params(StatefulPartitionedCallmy_modeldenseMatMul_bias0_quant_params);\n",
    "\n",
    "    Tensor StatefulPartitionedCallmy_modeldense_1MatMulReadVariableOptranspose0 = new RomTensor({ 128, 10 }, i8, data_StatefulPartitionedCall_my_model_dense_1_MatMul_ReadVariableOp_transpose_0);\n",
    "    int StatefulPartitionedCallmy_modeldense_1MatMulReadVariableOptranspose0_zp = 0;\n",
    "    float StatefulPartitionedCallmy_modeldense_1MatMulReadVariableOptranspose0_scale = 0.0034516868;\n",
    "    PerTensorQuantizationParams StatefulPartitionedCallmy_modeldense_1MatMulReadVariableOptranspose0_quant_params(StatefulPartitionedCallmy_modeldense_1MatMulReadVariableOptranspose0_zp, StatefulPartitionedCallmy_modeldense_1MatMulReadVariableOptranspose0_scale);\n",
    "    StatefulPartitionedCallmy_modeldense_1MatMulReadVariableOptranspose0->set_quantization_params(StatefulPartitionedCallmy_modeldense_1MatMulReadVariableOptranspose0_quant_params);\n",
    "\n",
    "    Tensor StatefulPartitionedCallmy_modeldense_1MatMul_bias0 = new RomTensor({ 10 }, i32, data_StatefulPartitionedCall_my_model_dense_1_MatMul_bias_0);\n",
    "    int32_t StatefulPartitionedCallmy_modeldense_1MatMul_bias0_zp = 0;\n",
    "    float StatefulPartitionedCallmy_modeldense_1MatMul_bias0_scale = 8.2601175e-05;\n",
    "    PerTensorQuantizationParams StatefulPartitionedCallmy_modeldense_1MatMul_bias0_quant_params(StatefulPartitionedCallmy_modeldense_1MatMul_bias0_zp, StatefulPartitionedCallmy_modeldense_1MatMul_bias0_scale);\n",
    "    StatefulPartitionedCallmy_modeldense_1MatMul_bias0->set_quantization_params(StatefulPartitionedCallmy_modeldense_1MatMul_bias0_quant_params);\n",
    "\n",
    "    // end of rendering local declare snippets\n",
    "    // start rendering eval snippets\n",
    "    op_002\n",
    "    .set_inputs({\n",
    "        { TFLM::QuantizeOperator<int8_t, float>::input, input_10 },\n",
    "    })\n",
    "    .set_outputs({\n",
    "        { TFLM::QuantizeOperator<int8_t, float>::output, input_1_int80}\n",
    "    })\n",
    "    .eval();\n",
    "\n",
    "    op_006\n",
    "    .set_inputs({\n",
    "        { QuantizedDepthwiseSeparableConvOperator<int8_t>::in, input_1_int80 },\n",
    "        { QuantizedDepthwiseSeparableConvOperator<int8_t>::filter, StatefulPartitionedCallmy_modelconv2dConv2DReadVariableOp0 },\n",
    "        { QuantizedDepthwiseSeparableConvOperator<int8_t>::bias, StatefulPartitionedCallmy_modelconv2dConv2D_bias0 },\n",
    "    })\n",
    "    .set_outputs({\n",
    "        { QuantizedDepthwiseSeparableConvOperator<int8_t>::out, StatefulPartitionedCallmy_modelconv2dRelu0}\n",
    "    })\n",
    "    .eval();\n",
    "\n",
    "    op_000\n",
    "    .set_inputs({\n",
    "        { MaxPoolOperator<int8_t>::in, StatefulPartitionedCallmy_modelconv2dRelu0 },\n",
    "    })\n",
    "    .set_outputs({\n",
    "        { MaxPoolOperator<int8_t>::out, StatefulPartitionedCallmy_modelmax_pooling2dMaxPool0}\n",
    "    })\n",
    "    .eval();\n",
    "\n",
    "    op_001\n",
    "    .set_inputs({\n",
    "        { ReshapeOperator<int8_t>::input, StatefulPartitionedCallmy_modelmax_pooling2dMaxPool0 },\n",
    "    })\n",
    "    .set_outputs({\n",
    "        { ReshapeOperator<int8_t>::output, StatefulPartitionedCallmy_modelmax_pooling2dMaxPool_0_Reshape00}\n",
    "    })\n",
    "    .eval();\n",
    "\n",
    "    op_003\n",
    "    .set_inputs({\n",
    "        { QuantizedFullyConnectedOperator<int8_t>::input, StatefulPartitionedCallmy_modelmax_pooling2dMaxPool_0_Reshape00 },\n",
    "        { QuantizedFullyConnectedOperator<int8_t>::filter, StatefulPartitionedCallmy_modeldenseMatMulReadVariableOptranspose0 },\n",
    "        { QuantizedFullyConnectedOperator<int8_t>::bias, StatefulPartitionedCallmy_modeldenseMatMul_bias0 },\n",
    "    })\n",
    "    .set_outputs({\n",
    "        { QuantizedFullyConnectedOperator<int8_t>::output, StatefulPartitionedCallmy_modeldenseRelu0}\n",
    "    })\n",
    "    .eval();\n",
    "\n",
    "    op_004\n",
    "    .set_inputs({\n",
    "        { QuantizedFullyConnectedOperator<int8_t>::input, StatefulPartitionedCallmy_modeldenseRelu0 },\n",
    "        { QuantizedFullyConnectedOperator<int8_t>::filter, StatefulPartitionedCallmy_modeldense_1MatMulReadVariableOptranspose0 },\n",
    "        { QuantizedFullyConnectedOperator<int8_t>::bias, StatefulPartitionedCallmy_modeldense_1MatMul_bias0 },\n",
    "    })\n",
    "    .set_outputs({\n",
    "        { QuantizedFullyConnectedOperator<int8_t>::output, Identity_int80}\n",
    "    })\n",
    "    .eval();\n",
    "\n",
    "    op_005\n",
    "    .set_inputs({\n",
    "        { TFLM::DequantizeOperator<float, int8_t>::a, Identity_int80 },\n",
    "    })\n",
    "    .set_outputs({\n",
    "        { TFLM::DequantizeOperator<float, int8_t>::b, Identity0}\n",
    "    })\n",
    "    .eval();\n",
    "    // end of rendering eval snippets\n",
    "}\n",
    "```"
   ]
  },
  {
   "cell_type": "markdown",
   "metadata": {},
   "source": [
    "### Write `main.cpp`\n",
    "\n",
    "```cpp\n",
    "#include <cmath>\n",
    "#include <iostream>\n",
    "\n",
    "// include the model header and uTensor\n",
    "#include \"models/model/model.hpp\"\n",
    "#include \"uTensor.h\"\n",
    "\n",
    "using namespace uTensor;\n",
    "\n",
    "using std::cout;\n",
    "using std::endl;\n",
    "\n",
    "// meta_allocator and ram_allocator will limit the memory usage for\n",
    "// 1. the meta data: the meta data of the operators or the tensors, such as shape, dimensions, ...etc\n",
    "// 2. the ram: it's where to store all the values of tensors in the model\n",
    "static localCircularArenaAllocator<2048> meta_allocator;\n",
    "static localCircularArenaAllocator<40000, uint32_t> ram_allocator;\n",
    "\n",
    "// the input image pixel values, 28x28 image is flattened into a 1D array\n",
    "const float arr_input_image[784] = {\n",
    "  0.0, 0.0, 0.0, 0.0, 0.0, 0.0, 0.0, 0.0, 0.0, 0.0, 0.0, 0.0, 0.0, 0.0, 0.0, 0.0, 0.0, 0.0, \n",
    "  0.0, 0.0, 0.0, 0.0, 0.0, 0.0, 0.0, 0.0, 0.0, 0.0, 0.0, 0.0, 0.0, 0.0, 0.0, 0.0, 0.0, 0.0,\n",
    "  0.0, 0.0, 0.0, 0.0, 0.0, 0.0, 0.0, 0.0, 0.0, 0.0, 0.0, 0.0, 0.0, 0.0, 0.0, 0.0, 0.0, 0.0,\n",
    "  0.0, 0.0, 0.0, 0.0, 0.0, 0.0, 0.0, 0.0, 0.0, 0.0, 0.0, 0.0, 0.0, 0.0, 0.0, 0.0, 0.0, 0.0, \n",
    "  0.0, 0.0, 0.0, 0.0, 0.0, 0.0, 0.0, 0.0, 0.0, 0.0, 0.0, 0.0, 0.0, 0.0, 0.0, 0.0, 0.0, 0.0, \n",
    "  0.0, 0.0, 0.0, 0.0, 0.0, 0.0, 0.0, 0.0, 0.0, 0.0, 0.0, 0.0, 0.0, 0.0, 0.0, 0.0, 0.0, 0.0, \n",
    "  0.0, 0.0, 0.0, 0.0, 0.0, 0.0, 0.0, 0.0, 0.0, 0.0, 0.0, 0.0, 0.0, 0.0, 0.0, 0.0, 0.0, 0.0, \n",
    "  0.0, 0.0, 0.0, 0.0, 0.0, 0.0, 0.0, 0.0, 0.0, 0.0, 0.0, 0.0, 0.0, 0.0, 0.0, 0.0, 0.0, 0.0, \n",
    "  0.0, 0.0, 0.0, 0.0, 0.0, 0.0, 0.0, 0.0, 0.0, 0.0, 0.0, 0.0, 0.0, 0.0, 0.0, 0.0, 0.0, 0.0, \n",
    "  0.0, 0.0, 0.0, 0.0, 0.0, 0.0, 0.0, 0.0, 0.0, 0.0, 0.0, 0.0, 0.0, 0.0, 0.0, 0.0, 0.0, 0.0, \n",
    "  0.0, 0.0, 0.0, 0.0, 0.0, 0.0, 0.0, 0.0, 0.0, 0.0, 0.0, 0.0, 0.0, 0.0, 0.0, 0.0, 0.0, 0.0, \n",
    "  0.0, 0.0, 0.0, 0.0, 0.32941176470588235, 0.7254901960784313, 0.6235294117647059, 0.592156862745098, \n",
    "  0.23529411764705882, 0.1411764705882353, 0.0, 0.0, 0.0, 0.0, 0.0, 0.0, 0.0, 0.0, 0.0, 0.0, 0.0, 0.0, 0.0, \n",
    "  0.0, 0.0, 0.0, 0.0, 0.0, 0.0, 0.0, 0.0, 0.0, 0.8705882352941177, 0.996078431372549, 0.996078431372549, \n",
    "  0.996078431372549, 0.996078431372549, 0.9450980392156862, 0.7764705882352941, 0.7764705882352941, 0.7764705882352941, \n",
    "  0.7764705882352941, 0.7764705882352941, 0.7764705882352941, 0.7764705882352941, 0.7764705882352941, \n",
    "  0.6666666666666666, 0.20392156862745098, 0.0, 0.0, 0.0, 0.0, 0.0, 0.0, 0.0, 0.0, 0.0, 0.0, 0.0, 0.0, 0.2627450980392157, \n",
    "  0.4470588235294118, 0.2823529411764706, 0.4470588235294118, 0.6392156862745098, 0.8901960784313725, 0.996078431372549, \n",
    "  .8823529411764706, 0.996078431372549, 0.996078431372549, 0.996078431372549, 0.9803921568627451, 0.8980392156862745, \n",
    "  0.996078431372549, 0.996078431372549, 0.5490196078431373, 0.0, 0.0, 0.0, 0.0, 0.0, 0.0, 0.0, 0.0, 0.0, 0.0, 0.0, 0.0, \n",
    "  0.0, 0.0, 0.0, 0.0, 0.0, 0.06666666666666667, 0.25882352941176473, 0.054901960784313725, 0.2627450980392157, 0.2627450980392157, \n",
    "  0.2627450980392157, 0.23137254901960785, 0.08235294117647059, 0.9254901960784314, 0.996078431372549, 0.41568627450980394, \n",
    "  0.0, 0.0, 0.0, 0.0, 0.0, 0.0, 0.0, 0.0, 0.0, 0.0, 0.0, 0.0, 0.0, 0.0, 0.0, 0.0, 0.0, 0.0, 0.0, 0.0, 0.0, 0.0, 0.0, 0.0, \n",
    "  0.3254901960784314, 0.9921568627450981, 0.8196078431372549, 0.07058823529411765, 0.0, 0.0, 0.0, 0.0, 0.0, 0.0, 0.0, 0.0, \n",
    "  0.0, 0.0, 0.0, 0.0, 0.0, 0.0, 0.0, 0.0, 0.0, 0.0, 0.0, 0.0, 0.0, 0.0, 0.0, 0.08627450980392157, 0.9137254901960784, 1.0, \n",
    "  0.3254901960784314, 0.0, 0.0, 0.0, 0.0, 0.0, 0.0, 0.0, 0.0, 0.0, 0.0, 0.0, 0.0, 0.0, 0.0, 0.0, 0.0, 0.0, 0.0, 0.0, 0.0, \n",
    "  0.0, 0.0, 0.0, 0.0, 0.5058823529411764, 0.996078431372549, 0.9333333333333333, 0.17254901960784313, 0.0, 0.0, 0.0, 0.0, \n",
    "  0.0, 0.0, 0.0, 0.0, 0.0, 0.0, 0.0, 0.0, 0.0, 0.0, 0.0, 0.0, 0.0, 0.0, 0.0, 0.0, 0.0, 0.0, 0.0, 0.23137254901960785, \n",
    "  0.9764705882352941, 0.996078431372549, 0.24313725490196078, 0.0, 0.0, 0.0, 0.0, 0.0, 0.0, 0.0, 0.0, 0.0, 0.0, 0.0, 0.0, \n",
    "  0.0, 0.0, 0.0, 0.0, 0.0, 0.0, 0.0, 0.0, 0.0, 0.0, 0.0, 0.0, 0.5215686274509804, 0.996078431372549, 0.7333333333333333, \n",
    "  0.0196078431372549, 0.0, 0.0, 0.0, 0.0, 0.0, 0.0, 0.0, 0.0, 0.0, 0.0, 0.0, 0.0, 0.0, 0.0, 0.0, 0.0, 0.0, 0.0, 0.0, 0.0, \n",
    "  0.0, 0.0, 0.0, 0.03529411764705882, 0.803921568627451, 0.9725490196078431, 0.22745098039215686, 0.0, 0.0, 0.0, 0.0, 0.0, \n",
    "  0.0, 0.0, 0.0, 0.0, 0.0, 0.0, 0.0, 0.0, 0.0, 0.0, 0.0, 0.0, 0.0, 0.0, 0.0, 0.0, 0.0, 0.0, 0.0, 0.49411764705882355, \n",
    "  0.996078431372549, 0.7137254901960784, 0.0, 0.0, 0.0, 0.0, 0.0, 0.0, 0.0, 0.0, 0.0, 0.0, 0.0, 0.0, 0.0, 0.0, 0.0, \n",
    "  0.0, 0.0, 0.0, 0.0, 0.0, 0.0, 0.0, 0.0, 0.0, 0.29411764705882354, 0.984313725490196, 0.9411764705882353, 0.2235294117647059, \n",
    "  0.0, 0.0, 0.0, 0.0, 0.0, 0.0, 0.0, 0.0, 0.0, 0.0, 0.0, 0.0, 0.0, 0.0, 0.0, 0.0, 0.0, 0.0, 0.0, 0.0, 0.0, 0.0, 0.0, 0.07450980392156863, \n",
    "  0.8666666666666667, 0.996078431372549, 0.6509803921568628, 0.0, 0.0, 0.0, 0.0, 0.0, 0.0, 0.0, 0.0, 0.0, 0.0, 0.0, 0.0, 0.0, 0.0, 0.0, \n",
    "  0.0, 0.0, 0.0, 0.0, 0.0, 0.0, 0.0, 0.0, 0.011764705882352941, 0.796078431372549, 0.996078431372549, 0.8588235294117647, 0.13725490196078433, \n",
    "  0.0, 0.0, 0.0, 0.0, 0.0, 0.0, 0.0, 0.0, 0.0, 0.0, 0.0, 0.0, 0.0, 0.0, 0.0, 0.0, 0.0, 0.0, 0.0, 0.0, 0.0, 0.0, 0.0, 0.14901960784313725, \n",
    "  0.996078431372549, 0.996078431372549, 0.30196078431372547, 0.0, 0.0, 0.0, 0.0, 0.0, 0.0, 0.0, 0.0, 0.0, 0.0, 0.0, 0.0, 0.0, 0.0, 0.0, \n",
    "  0.0, 0.0, 0.0, 0.0, 0.0, 0.0, 0.0, 0.0, 0.12156862745098039, 0.8784313725490196, 0.996078431372549, 0.45098039215686275, 0.00392156862745098, \n",
    "  0.0, 0.0, 0.0, 0.0, 0.0, 0.0, 0.0, 0.0, 0.0, 0.0, 0.0, 0.0, 0.0, 0.0, 0.0, 0.0, 0.0, 0.0, 0.0, 0.0, 0.0, 0.0, 0.0, 0.5215686274509804, \n",
    "  0.996078431372549, 0.996078431372549, 0.20392156862745098, 0.0, 0.0, 0.0, 0.0, 0.0, 0.0, 0.0, 0.0, 0.0, 0.0, 0.0, 0.0, 0.0, 0.0, 0.0, 0.0, \n",
    "  0.0, 0.0, 0.0, 0.0, 0.0, 0.0, 0.0, 0.23921568627450981, 0.9490196078431372, 0.996078431372549, 0.996078431372549, 0.20392156862745098, \n",
    "  0.0, 0.0, 0.0, 0.0, 0.0, 0.0, 0.0, 0.0, 0.0, 0.0, 0.0, 0.0, 0.0, 0.0, 0.0, 0.0, 0.0, 0.0, 0.0, 0.0, 0.0, 0.0, 0.0, 0.4745098039215686, \n",
    "  0.996078431372549, 0.996078431372549, 0.8588235294117647, 0.1568627450980392, 0.0, 0.0, 0.0, 0.0, 0.0, 0.0, 0.0, 0.0, 0.0, 0.0, 0.0, \n",
    "  0.0, 0.0, 0.0, 0.0, 0.0, 0.0, 0.0, 0.0, 0.0, 0.0, 0.0, 0.0, 0.4745098039215686, 0.996078431372549, 0.8117647058823529, 0.07058823529411765, \n",
    "  0.0, 0.0, 0.0, 0.0, 0.0, 0.0, 0.0, 0.0, 0.0, 0.0, 0.0, 0.0, 0.0, 0.0, 0.0, 0.0, 0.0, 0.0, 0.0, 0.0, 0.0, 0.0, 0.0, 0.0, 0.0, 0.0, 0.0, 0.0, \n",
    "  0.0, 0.0, 0.0, 0.0, 0.0, 0.0, 0.0, 0.0, 0.0, 0.0, 0.0, 0.0, 0.0, 0.0 };\n",
    "\n",
    "int main(int argc, const char** argv) {\n",
    "  // before allocating any tesnors/operators, make sure you set the allocators properly\n",
    "  Context::get_default_context()->set_metadata_allocator(&meta_allocator);\n",
    "  Context::get_default_context()->set_ram_data_allocator(&ram_allocator);\n",
    "  \n",
    "  // create the input/output tensor\n",
    "  Tensor input_image = new RomTensor({1, 28, 28, 1}, flt, arr_input_image);\n",
    "  Tensor logits = new RamTensor({1, 10}, flt);\n",
    "  // evaluate the model\n",
    "  compute_model(input_image, logits);\n",
    "\n",
    "  // make prediction\n",
    "  float max_value = static_cast<float>(logits(0));\n",
    "  int max_index = 0;\n",
    "  for (int i = 1; i < 10; ++i) {\n",
    "    float value = static_cast<float>(logits(i));\n",
    "    if (value >= max_value) {\n",
    "      max_value = value;\n",
    "      max_index = i;\n",
    "    }\n",
    "  }\n",
    "  cout << \"pred label: \" << max_index << endl;\n",
    "  return 0;\n",
    "}\n",
    "```"
   ]
  },
  {
   "cell_type": "markdown",
   "metadata": {},
   "source": [
    "### Compile and Run\n",
    "\n",
    "![end2end-output](images/end2end_keras_output.png)"
   ]
  },
  {
   "cell_type": "code",
   "execution_count": null,
   "metadata": {},
   "outputs": [],
   "source": []
  }
 ],
 "metadata": {
  "kernelspec": {
   "display_name": "utensor",
   "language": "python",
   "name": "utensor"
  },
  "language_info": {
   "codemirror_mode": {
    "name": "ipython",
    "version": 3
   },
   "file_extension": ".py",
   "mimetype": "text/x-python",
   "name": "python",
   "nbconvert_exporter": "python",
   "pygments_lexer": "ipython3",
   "version": "3.6.8"
  },
  "toc": {
   "base_numbering": 1,
   "nav_menu": {},
   "number_sections": true,
   "sideBar": true,
   "skip_h1_title": false,
   "title_cell": "Table of Contents",
   "title_sidebar": "Contents",
   "toc_cell": false,
   "toc_position": {},
   "toc_section_display": true,
   "toc_window_display": false
  }
 },
 "nbformat": 4,
 "nbformat_minor": 4
}
