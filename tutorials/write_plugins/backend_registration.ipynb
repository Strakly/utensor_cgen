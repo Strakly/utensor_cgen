{
 "cells": [
  {
   "cell_type": "markdown",
   "metadata": {},
   "source": [
    "## Write a Simple Backend\n",
    "\n",
    "1. All backend should overwrite:\n",
    "  - a class attribute `TARGET`: this is the target name of your backend\n",
    "  - `default_config` class property\n",
    "  - `apply` method, which is responsible for generating files or anything you want with the given `ugraph`"
   ]
  },
  {
   "cell_type": "code",
   "execution_count": 1,
   "metadata": {
    "ExecuteTime": {
     "end_time": "2020-05-15T06:16:52.700065Z",
     "start_time": "2020-05-15T06:16:52.266124Z"
    }
   },
   "outputs": [],
   "source": [
    "from utensor_cgen.backend import Backend\n",
    "from utensor_cgen.utils import class_property\n",
    "\n",
    "class DummyBackend(Backend):\n",
    "    TARGET = 'dummy-backend'\n",
    "\n",
    "    def __init__(self, config):\n",
    "        self.output_file = self.config[self.TARGET][self.COMPONENT]['output-file']\n",
    "\n",
    "    def apply(self, ugraph):\n",
    "        print('generating {}'.format(self.output_file), )\n",
    "        with open(self.output_file, 'w') as fid:\n",
    "            fid.write('#include <stdio.h>\\n\\n')\n",
    "            fid.write('int main(int argc, char* argv[]) {\\n')\n",
    "            fid.write('    printf(\"graph name: {}\\\\n\");\\n'.format(ugraph.name))\n",
    "            fid.write('    printf(\"ops in topological sorted order:\\\\n\");\\n')\n",
    "            for op_name in ugraph.topo_order:\n",
    "                fid.write('    printf(\"    {}\\\\n\");\\n'.format(op_name))\n",
    "            fid.write('    return 0;\\n}')\n",
    "\n",
    "    @class_property\n",
    "    def default_config(cls):\n",
    "        \"\"\"this default_config property will define the format of `config` value\n",
    "        passed to `__init__`\n",
    "        \n",
    "        You should initialize your backend instance accordingly\n",
    "        \"\"\"\n",
    "        return {\n",
    "            cls.TARGET: {\n",
    "                    cls.COMPONENT: {\n",
    "                    'output-file': 'list_op.c'\n",
    "                }\n",
    "            }\n",
    "        }\n"
   ]
  },
  {
   "cell_type": "markdown",
   "metadata": {},
   "source": [
    "## Backend Registration"
   ]
  },
  {
   "cell_type": "code",
   "execution_count": 2,
   "metadata": {
    "ExecuteTime": {
     "end_time": "2020-05-15T06:16:52.724946Z",
     "start_time": "2020-05-15T06:16:52.714719Z"
    }
   },
   "outputs": [
    {
     "data": {
      "text/plain": [
       "__main__.DummyBackend"
      ]
     },
     "execution_count": 2,
     "metadata": {},
     "output_type": "execute_result"
    }
   ],
   "source": [
    "from utensor_cgen.backend import BackendManager\n",
    "\n",
    "BackendManager.register(DummyBackend)"
   ]
  },
  {
   "cell_type": "markdown",
   "metadata": {},
   "source": [
    "## Read a Graph and Apply the Backend"
   ]
  },
  {
   "cell_type": "code",
   "execution_count": 3,
   "metadata": {
    "ExecuteTime": {
     "end_time": "2020-05-15T06:16:53.407285Z",
     "start_time": "2020-05-15T06:16:53.399436Z"
    }
   },
   "outputs": [],
   "source": [
    "from utensor_cgen.frontend import FrontendSelector"
   ]
  },
  {
   "cell_type": "code",
   "execution_count": 4,
   "metadata": {
    "ExecuteTime": {
     "end_time": "2020-05-15T06:16:58.423617Z",
     "start_time": "2020-05-15T06:16:54.435841Z"
    }
   },
   "outputs": [],
   "source": [
    "ugraph = FrontendSelector.parse('models/cifar10_cnn.pb', output_nodes=['pred'])"
   ]
  },
  {
   "cell_type": "code",
   "execution_count": 5,
   "metadata": {
    "ExecuteTime": {
     "end_time": "2020-05-15T06:16:58.447131Z",
     "start_time": "2020-05-15T06:16:58.426076Z"
    }
   },
   "outputs": [
    {
     "name": "stdout",
     "output_type": "stream",
     "text": [
      "generating list_mymodel_ops.cpp\n"
     ]
    }
   ],
   "source": [
    "BackendManager.get_backend(DummyBackend.TARGET)({\n",
    "    DummyBackend.TARGET: {\n",
    "        'backend': {\n",
    "            'output-file': 'list_mymodel_ops.cpp'\n",
    "        }\n",
    "    }\n",
    "}).apply(ugraph)"
   ]
  },
  {
   "cell_type": "code",
   "execution_count": 6,
   "metadata": {
    "ExecuteTime": {
     "end_time": "2020-05-15T06:16:58.606631Z",
     "start_time": "2020-05-15T06:16:58.457135Z"
    }
   },
   "outputs": [
    {
     "name": "stdout",
     "output_type": "stream",
     "text": [
      "#include <stdio.h>\r\n",
      "\r\n",
      "int main(int argc, char* argv[]) {\r\n",
      "    printf(\"graph name: cifar10_cnn\\n\");\r\n",
      "    printf(\"ops in topological sorted order:\\n\");\r\n",
      "    printf(\"    Placeholder\\n\");\r\n",
      "    printf(\"    conv/Variable\\n\");\r\n",
      "    printf(\"    conv/feature_map\\n\");\r\n",
      "    printf(\"    conv/bias\\n\");\r\n",
      "    printf(\"    conv/logits\\n\");\r\n",
      "    printf(\"    conv_1/Variable\\n\");\r\n",
      "    printf(\"    conv_1/feature_map\\n\");\r\n",
      "    printf(\"    conv_1/bias\\n\");\r\n",
      "    printf(\"    conv_1/logits\\n\");\r\n",
      "    printf(\"    conv_1/activation\\n\");\r\n",
      "    printf(\"    MaxPool\\n\");\r\n",
      "    printf(\"    conv_2/Variable\\n\");\r\n",
      "    printf(\"    conv_2/feature_map\\n\");\r\n",
      "    printf(\"    conv_2/bias\\n\");\r\n",
      "    printf(\"    conv_2/logits\\n\");\r\n",
      "    printf(\"    conv_3/Variable\\n\");\r\n",
      "    printf(\"    conv_3/feature_map\\n\");\r\n",
      "    printf(\"    conv_3/bias\\n\");\r\n",
      "    printf(\"    conv_3/logits\\n\");\r\n",
      "    printf(\"    conv_3/activation\\n\");\r\n",
      "    printf(\"    MaxPool_1\\n\");\r\n",
      "    printf(\"    conv_4/Variable\\n\");\r\n",
      "    printf(\"    conv_4/feature_map\\n\");\r\n",
      "    printf(\"    conv_4/bias\\n\");\r\n",
      "    printf(\"    conv_4/logits\\n\");\r\n",
      "    printf(\"    conv_4/activation\\n\");\r\n",
      "    printf(\"    conv_5/Variable\\n\");\r\n",
      "    printf(\"    conv_5/feature_map\\n\");\r\n",
      "    printf(\"    conv_5/bias\\n\");\r\n",
      "    printf(\"    conv_5/logits\\n\");\r\n",
      "    printf(\"    conv_5/activation\\n\");\r\n",
      "    printf(\"    Reshape/shape\\n\");\r\n",
      "    printf(\"    Reshape\\n\");\r\n",
      "    printf(\"    fully_connect/weight\\n\");\r\n",
      "    printf(\"    fully_connect/MatMul\\n\");\r\n",
      "    printf(\"    fully_connect/bias\\n\");\r\n",
      "    printf(\"    fully_connect/logits\\n\");\r\n",
      "    printf(\"    fully_connect/activation\\n\");\r\n",
      "    printf(\"    fully_connect_1/weight\\n\");\r\n",
      "    printf(\"    fully_connect_1/MatMul\\n\");\r\n",
      "    printf(\"    fully_connect_1/bias\\n\");\r\n",
      "    printf(\"    fully_connect_1/logits\\n\");\r\n",
      "    printf(\"    fully_connect_1/activation\\n\");\r\n",
      "    printf(\"    fully_connect_2/weight\\n\");\r\n",
      "    printf(\"    fully_connect_2/MatMul\\n\");\r\n",
      "    printf(\"    fully_connect_2/bias\\n\");\r\n",
      "    printf(\"    fully_connect_2/logits\\n\");\r\n",
      "    printf(\"    pred/dimension\\n\");\r\n",
      "    printf(\"    pred\\n\");\r\n",
      "    return 0;\r\n",
      "}"
     ]
    }
   ],
   "source": [
    "!cat list_mymodel_ops.cpp"
   ]
  },
  {
   "cell_type": "code",
   "execution_count": null,
   "metadata": {},
   "outputs": [],
   "source": []
  }
 ],
 "metadata": {
  "kernelspec": {
   "display_name": "utensor",
   "language": "python",
   "name": "utensor"
  },
  "language_info": {
   "codemirror_mode": {
    "name": "ipython",
    "version": 3
   },
   "file_extension": ".py",
   "mimetype": "text/x-python",
   "name": "python",
   "nbconvert_exporter": "python",
   "pygments_lexer": "ipython3",
   "version": "3.6.8"
  },
  "toc": {
   "base_numbering": 1,
   "nav_menu": {},
   "number_sections": true,
   "sideBar": true,
   "skip_h1_title": false,
   "title_cell": "Table of Contents",
   "title_sidebar": "Contents",
   "toc_cell": false,
   "toc_position": {},
   "toc_section_display": true,
   "toc_window_display": false
  }
 },
 "nbformat": 4,
 "nbformat_minor": 4
}
