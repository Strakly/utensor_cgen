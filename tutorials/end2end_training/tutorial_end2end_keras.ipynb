{
 "cells": [
  {
   "cell_type": "markdown",
   "metadata": {},
   "source": [
    "## Imports"
   ]
  },
  {
   "cell_type": "code",
   "execution_count": 1,
   "metadata": {
    "ExecuteTime": {
     "end_time": "2020-05-30T15:07:12.973162Z",
     "start_time": "2020-05-30T15:07:06.963607Z"
    }
   },
   "outputs": [],
   "source": [
    "from utensor_cgen.api.export import tflm_keras_export"
   ]
  },
  {
   "cell_type": "code",
   "execution_count": 2,
   "metadata": {
    "ExecuteTime": {
     "end_time": "2020-05-30T15:07:13.529757Z",
     "start_time": "2020-05-30T15:07:13.508224Z"
    }
   },
   "outputs": [],
   "source": [
    "import tensorflow as tf\n",
    "import numpy as np\n",
    "\n",
    "from tensorflow.keras.layers import Dense, Flatten, Conv2D, MaxPooling2D\n",
    "from tensorflow.keras import Model"
   ]
  },
  {
   "cell_type": "markdown",
   "metadata": {},
   "source": [
    "## Define Model"
   ]
  },
  {
   "cell_type": "code",
   "execution_count": 3,
   "metadata": {
    "ExecuteTime": {
     "end_time": "2020-05-30T15:07:14.551467Z",
     "start_time": "2020-05-30T15:07:14.523768Z"
    }
   },
   "outputs": [],
   "source": [
    "class MyModel(Model):\n",
    "    def __init__(self):\n",
    "        super(MyModel, self).__init__()\n",
    "        self.conv1 = Conv2D(32, 3, activation='relu')\n",
    "        self.pool = MaxPooling2D(pool_size=(5,5))\n",
    "        self.flatten = Flatten()\n",
    "        self.d1 = Dense(32, activation='relu')\n",
    "        self.d2 = Dense(10)\n",
    "\n",
    "    def call(self, x):\n",
    "        x0 = self.conv1(x)\n",
    "        x1 = self.pool(x0)\n",
    "        x2 = self.flatten(x1)\n",
    "        x3 = self.d1(x2)\n",
    "        return self.d2(x3)\n",
    "\n",
    "# Create an instance of the model\n",
    "model = MyModel()"
   ]
  },
  {
   "cell_type": "markdown",
   "metadata": {},
   "source": [
    "## Training"
   ]
  },
  {
   "cell_type": "code",
   "execution_count": 4,
   "metadata": {
    "ExecuteTime": {
     "end_time": "2020-05-30T15:07:17.366309Z",
     "start_time": "2020-05-30T15:07:16.815654Z"
    }
   },
   "outputs": [],
   "source": [
    "mnist = tf.keras.datasets.mnist\n",
    "\n",
    "(x_train, y_train), (x_test, y_test) = mnist.load_data()\n",
    "x_train, x_test = x_train / 255.0, x_test / 255.0\n",
    "\n",
    "# Add a channels dimension\n",
    "x_train = x_train[..., tf.newaxis]\n",
    "x_test = x_test[..., tf.newaxis]"
   ]
  },
  {
   "cell_type": "code",
   "execution_count": 5,
   "metadata": {
    "ExecuteTime": {
     "end_time": "2020-05-30T15:07:18.001571Z",
     "start_time": "2020-05-30T15:07:17.906606Z"
    }
   },
   "outputs": [],
   "source": [
    "train_ds = tf.data.Dataset.from_tensor_slices(\n",
    "    (x_train, y_train)\n",
    ").shuffle(10000).batch(32)\n",
    "\n",
    "test_ds = tf.data.Dataset.from_tensor_slices((x_test, y_test)).batch(32)"
   ]
  },
  {
   "cell_type": "code",
   "execution_count": 6,
   "metadata": {
    "ExecuteTime": {
     "end_time": "2020-05-30T15:07:19.444309Z",
     "start_time": "2020-05-30T15:07:19.411132Z"
    }
   },
   "outputs": [],
   "source": [
    "loss_object = tf.keras.losses.SparseCategoricalCrossentropy(from_logits=True)\n",
    "optimizer = tf.keras.optimizers.Adam()\n",
    "\n",
    "train_loss = tf.keras.metrics.Mean(name='train_loss')\n",
    "train_accuracy = tf.keras.metrics.SparseCategoricalAccuracy(name='train_accuracy')\n",
    "\n",
    "test_loss = tf.keras.metrics.Mean(name='test_loss')\n",
    "test_accuracy = tf.keras.metrics.SparseCategoricalAccuracy(name='test_accuracy')"
   ]
  },
  {
   "cell_type": "code",
   "execution_count": 7,
   "metadata": {
    "ExecuteTime": {
     "end_time": "2020-05-30T15:07:20.174280Z",
     "start_time": "2020-05-30T15:07:20.157805Z"
    }
   },
   "outputs": [],
   "source": [
    "@tf.function\n",
    "def train_step(images, labels):\n",
    "    with tf.GradientTape() as tape:\n",
    "        predictions = model(images, training=True)\n",
    "        loss = loss_object(labels, predictions)\n",
    "    gradients = tape.gradient(loss, model.trainable_variables)\n",
    "    optimizer.apply_gradients(zip(gradients, model.trainable_variables))\n",
    "\n",
    "    train_loss(loss)\n",
    "    train_accuracy(labels, predictions)"
   ]
  },
  {
   "cell_type": "code",
   "execution_count": 8,
   "metadata": {
    "ExecuteTime": {
     "end_time": "2020-05-30T15:07:21.378725Z",
     "start_time": "2020-05-30T15:07:21.366596Z"
    }
   },
   "outputs": [],
   "source": [
    "@tf.function\n",
    "def test_step(images, labels):\n",
    "    predictions = model(images, training=False)\n",
    "    t_loss = loss_object(labels, predictions)\n",
    "\n",
    "    test_loss(t_loss)\n",
    "    test_accuracy(labels, predictions)"
   ]
  },
  {
   "cell_type": "code",
   "execution_count": 9,
   "metadata": {
    "ExecuteTime": {
     "end_time": "2020-05-30T15:07:35.424153Z",
     "start_time": "2020-05-30T15:07:24.083549Z"
    }
   },
   "outputs": [
    {
     "name": "stdout",
     "output_type": "stream",
     "text": [
      "WARNING:tensorflow:Layer my_model is casting an input tensor from dtype float64 to the layer's dtype of float32, which is new behavior in TensorFlow 2.  The layer has dtype float32 because it's dtype defaults to floatx.\n",
      "\n",
      "If you intended to run this layer in float32, you can safely ignore this warning. If in doubt, this warning is likely only an issue if you are porting a TensorFlow 1.X model to TensorFlow 2.\n",
      "\n",
      "To change all layers to have dtype float64 by default, call `tf.keras.backend.set_floatx('float64')`. To change just this layer, pass dtype='float64' to the layer constructor. If you are the author of this layer, you can disable autocasting by passing autocast=False to the base Layer constructor.\n",
      "\n",
      "Epoch 1, Loss: 0.29978904128074646, Accuracy: 91.2249984741211, Test Loss: 0.11291045695543289, Test Accuracy: 96.45000457763672\n"
     ]
    }
   ],
   "source": [
    "EPOCHS = 1\n",
    "\n",
    "for epoch in range(EPOCHS):\n",
    "    # Reset the metrics at the start of the next epoch\n",
    "    train_loss.reset_states()\n",
    "    train_accuracy.reset_states()\n",
    "    test_loss.reset_states()\n",
    "    test_accuracy.reset_states()\n",
    "\n",
    "    for images, labels in train_ds:\n",
    "        train_step(images, labels)\n",
    "\n",
    "    for test_images, test_labels in test_ds:\n",
    "        test_step(test_images, test_labels)\n",
    "\n",
    "    template = 'Epoch {}, Loss: {}, Accuracy: {}, Test Loss: {}, Test Accuracy: {}'\n",
    "    print(template.format(epoch+1,\n",
    "                          train_loss.result(),\n",
    "                          train_accuracy.result()*100,\n",
    "                          test_loss.result(),\n",
    "                          test_accuracy.result()*100))"
   ]
  },
  {
   "cell_type": "code",
   "execution_count": 10,
   "metadata": {
    "ExecuteTime": {
     "end_time": "2020-05-30T15:07:35.798532Z",
     "start_time": "2020-05-30T15:07:35.427077Z"
    }
   },
   "outputs": [
    {
     "name": "stdout",
     "output_type": "stream",
     "text": [
      "WARNING:tensorflow:From /Users/dboyliao/Work/open_source/uTensor/utensor_cgen/.venv/lib/python3.7/site-packages/tensorflow_core/python/ops/resource_variable_ops.py:1786: calling BaseResourceVariable.__init__ (from tensorflow.python.ops.resource_variable_ops) with constraint is deprecated and will be removed in a future version.\n",
      "Instructions for updating:\n",
      "If using Keras pass *_constraint arguments to layers.\n",
      "INFO:tensorflow:Assets written to: saved_model/test_model/assets\n"
     ]
    }
   ],
   "source": [
    "model.save('saved_model/test_model')"
   ]
  },
  {
   "cell_type": "markdown",
   "metadata": {},
   "source": [
    "## Exporting to uTensor"
   ]
  },
  {
   "cell_type": "code",
   "execution_count": 11,
   "metadata": {
    "ExecuteTime": {
     "end_time": "2020-05-30T15:07:35.811539Z",
     "start_time": "2020-05-30T15:07:35.807316Z"
    }
   },
   "outputs": [],
   "source": [
    "# representative data function\n",
    "num_calibration_steps = 128\n",
    "calibration_dtype = tf.float32\n",
    "\n",
    "def representative_dataset_gen():\n",
    "    for _ in range(num_calibration_steps):\n",
    "        rand_idx = np.random.randint(0, x_test.shape[0]-1)\n",
    "        sample = x_test[rand_idx]\n",
    "        sample = sample[tf.newaxis, ...]\n",
    "        sample = tf.cast(sample, dtype=calibration_dtype)\n",
    "        yield [sample]"
   ]
  },
  {
   "cell_type": "code",
   "execution_count": 12,
   "metadata": {
    "ExecuteTime": {
     "end_time": "2020-05-30T15:07:42.245814Z",
     "start_time": "2020-05-30T15:07:35.815054Z"
    }
   },
   "outputs": [
    {
     "name": "stdout",
     "output_type": "stream",
     "text": [
      "[WARNING base.py __attrs_post_init__ @ 300] cannot convert new_shape to generic value: [1, 800](<class 'list'>)\n",
      "[WARNING quantize.py <module> @ 12] trying to import deprecated quantization transformer\n",
      "[INFO transformer.py transform @ 23] Transforming graph: my_model\n",
      "[INFO transformer.py transform @ 24] Transform pipeline: dropout(name_pattern=r'(dropout[_\\w\\d]*)/.*') -> linear_reorder -> inline -> biasAdd -> remove_id_op -> fake_gather_v2 -> refcnt\n",
      "[WARNING base.py __attrs_post_init__ @ 300] cannot convert new_shape to generic value: [1, 800](<class 'list'>)\n",
      "[WARNING base.py __attrs_post_init__ @ 300] cannot convert new_shape to generic value: [1, 800](<class 'list'>)\n",
      "[WARNING base.py __attrs_post_init__ @ 300] cannot convert new_shape to generic value: [1, 800](<class 'list'>)\n",
      "[WARNING base.py __attrs_post_init__ @ 300] cannot convert new_shape to generic value: [1, 800](<class 'list'>)\n",
      "[WARNING ns_transformer.py transform @ 243] enabling fake_gather_v2 will force replacing GatherV2 with Gather\n",
      "[WARNING base.py __attrs_post_init__ @ 300] cannot convert new_shape to generic value: [1, 800](<class 'list'>)\n",
      "[WARNING base.py __attrs_post_init__ @ 300] cannot convert new_shape to generic value: [1, 800](<class 'list'>)\n",
      "[INFO transformer.py transform @ 31] Graph transormation done\n",
      "[INFO generic_graph_lower.py apply @ 56] topo ordered tensor life span analysis done\n",
      "[INFO utils.py wrapped @ 469] collapsed time of calling apply: 0.0039 seconds\n",
      "[INFO generic_graph_lower.py _solve_space_alloc @ 204] optimal tensor allocation plan solved, total memory required: 22432 bytes\n",
      "[INFO generic_graph_lower.py _solve_space_alloc @ 205] number of tensors allocated: 7\n",
      "[INFO utils.py wrapped @ 469] collapsed time of calling _solve_space_alloc: 0.0658 seconds\n",
      "[INFO _code_generator.py _time_slot_generate_files @ 208] model parameters header file generated: constants/my_model/params_my_model.hpp\n",
      "[INFO _code_generator.py _time_slot_generate_files @ 221] model header file generated: models/my_model/my_model.hpp\n",
      "[INFO _code_generator.py _time_slot_generate_files @ 228] model cpp file generated: models/my_model/my_model.cpp\n"
     ]
    }
   ],
   "source": [
    "tflm_keras_export(\n",
    "    'saved_model/test_model',\n",
    "    representive_dataset=representative_dataset_gen,\n",
    "    model_name='my_model',\n",
    "    target='utensor',\n",
    ")"
   ]
  },
  {
   "cell_type": "markdown",
   "metadata": {
    "ExecuteTime": {
     "end_time": "2020-05-15T05:22:31.997930Z",
     "start_time": "2020-05-15T05:22:31.986846Z"
    }
   },
   "source": [
    "### Generated Cpp File: `models/my_model/my_model.cpp`\n",
    "\n",
    "```cpp\n",
    "/* Auto-generated by utensor cli */\n",
    "#include \"uTensor.h\"\n",
    "#include \"models/my_model/my_model.hpp\"\n",
    "#include \"constants/my_model/params_my_model.hpp\"\n",
    "\n",
    "\n",
    "using namespace uTensor;\n",
    "\n",
    "void compute_my_model(Tensor& t_input_10, Tensor& t_Identity0){\n",
    "    // start rendering local snippets\n",
    "    MaxPoolOperator<int8_t> op_000({ 5, 5 }, { 1, 5, 5, 1 }, VALID);\n",
    "\n",
    "\n",
    "    ReshapeOperator<int8_t> op_001({ 1, 800 });\n",
    "\n",
    "\n",
    "    TFLM::DequantizeOperator<float, int8_t> op_002;\n",
    "\n",
    "\n",
    "    QuantizedFullyConnectedOperator<int8_t> op_003(TFLM::TfLiteFusedActivation::kTfLiteActNone);\n",
    "\n",
    "\n",
    "    TFLM::QuantizeOperator<int8_t, float> op_004;\n",
    "\n",
    "\n",
    "    QuantizedFullyConnectedOperator<int8_t> op_005(TFLM::TfLiteFusedActivation::kTfLiteActRelu);\n",
    "\n",
    "\n",
    "    QuantizedDepthwiseSeparableConvOperator<int8_t> op_006({ 1, 1 }, VALID, 32, { 1, 1 }, TFLM::TfLiteFusedActivation::kTfLiteActRelu);\n",
    "\n",
    "\n",
    "    Tensor t_input_1_int80 = new RamTensor({ 1, 28, 28, 1 }, i8);\n",
    "    int32_t t_input_1_int80_zp = -128;\n",
    "    float t_input_1_int80_scale = 0.003921569;\n",
    "    PerTensorQuantizationParams t_input_1_int80_quant_params(t_input_1_int80_zp, t_input_1_int80_scale);\n",
    "    t_input_1_int80->set_quantization_params(t_input_1_int80_quant_params);\n",
    "\n",
    "\n",
    "    op_004\n",
    "    .set_inputs({\n",
    "        { TFLM::QuantizeOperator<int8_t, float>::input, t_input_10 },\n",
    "    })\n",
    "    .set_outputs({\n",
    "        { TFLM::QuantizeOperator<int8_t, float>::output, t_input_1_int80}\n",
    "    })\n",
    "    .eval();\n",
    "\n",
    "    Tensor t_StatefulPartitionedCallmy_modelconv2dConv2DReadVariableOp0 = new RomTensor({ 1, 3, 3, 32 }, i8, data_StatefulPartitionedCall_my_model_conv2d_Conv2D_ReadVariableOp_0);\n",
    "    int32_t arr_t_StatefulPartitionedCallmy_modelconv2dConv2DReadVariableOp0_zp[32] = { 0, 0, 0, 0, 0, 0, 0, 0, 0, 0, 0, 0, 0, 0, 0, 0, 0, 0, 0, 0, 0, 0, 0, 0, 0, 0, 0, 0, 0, 0, 0, 0 };\n",
    "    float arr_t_StatefulPartitionedCallmy_modelconv2dConv2DReadVariableOp0_scale[32] = { 0.003196849, 0.0022492365, 0.0036515477, 0.0043610046, 0.0050669066, 0.0037208046, 0.0027656453, 0.0030713736, 0.0016497879, 0.004324051, 0.002508992, 0.0025620414, 0.0036149996, 0.0038939079, 0.0033139754, 0.0022679588, 0.0029792925, 0.001704243, 0.004692121, 0.002993838, 0.0013314154, 0.004457627, 0.0028719436, 0.0015269893, 0.0019531937, 0.0035984516, 0.0037870614, 0.0034221674, 0.00394594, 0.005180856, 0.0026908913, 0.002710745 };\n",
    "    PerChannelQuantizationParams t_StatefulPartitionedCallmy_modelconv2dConv2DReadVariableOp0_quant_params(arr_t_StatefulPartitionedCallmy_modelconv2dConv2DReadVariableOp0_zp, arr_t_StatefulPartitionedCallmy_modelconv2dConv2DReadVariableOp0_scale);\n",
    "    t_StatefulPartitionedCallmy_modelconv2dConv2DReadVariableOp0->set_quantization_params(t_StatefulPartitionedCallmy_modelconv2dConv2DReadVariableOp0_quant_params);\n",
    "\n",
    "\n",
    "    Tensor t_StatefulPartitionedCallmy_modelconv2dConv2D_bias0 = new RomTensor({ 32 }, i32, data_StatefulPartitionedCall_my_model_conv2d_Conv2D_bias_0);\n",
    "    int32_t arr_t_StatefulPartitionedCallmy_modelconv2dConv2D_bias0_zp[32] = { 0, 0, 0, 0, 0, 0, 0, 0, 0, 0, 0, 0, 0, 0, 0, 0, 0, 0, 0, 0, 0, 0, 0, 0, 0, 0, 0, 0, 0, 0, 0, 0 };\n",
    "    float arr_t_StatefulPartitionedCallmy_modelconv2dConv2D_bias0_scale[32] = { 1.2536663e-05, 8.820535e-06, 1.4319796e-05, 1.710198e-05, 1.9870224e-05, 1.4591391e-05, 1.0845668e-05, 1.2044603e-05, 6.469757e-06, 1.6957065e-05, 9.839186e-06, 1.0047222e-05, 1.4176469e-05, 1.5270229e-05, 1.2995983e-05, 8.893957e-06, 1.1683501e-05, 6.6833063e-06, 1.8400475e-05, 1.1740542e-05, 5.221237e-06, 1.748089e-05, 1.1262525e-05, 5.9881936e-06, 7.659583e-06, 1.4111576e-05, 1.4851222e-05, 1.3420265e-05, 1.5474276e-05, 2.0317084e-05, 1.0552515e-05, 1.0630373e-05 };\n",
    "    PerChannelQuantizationParams t_StatefulPartitionedCallmy_modelconv2dConv2D_bias0_quant_params(arr_t_StatefulPartitionedCallmy_modelconv2dConv2D_bias0_zp, arr_t_StatefulPartitionedCallmy_modelconv2dConv2D_bias0_scale);\n",
    "    t_StatefulPartitionedCallmy_modelconv2dConv2D_bias0->set_quantization_params(t_StatefulPartitionedCallmy_modelconv2dConv2D_bias0_quant_params);\n",
    "\n",
    "\n",
    "    Tensor t_StatefulPartitionedCallmy_modelconv2dRelu0 = new RamTensor({ 1, 26, 26, 32 }, i8);\n",
    "    int32_t t_StatefulPartitionedCallmy_modelconv2dRelu0_zp = -128;\n",
    "    float t_StatefulPartitionedCallmy_modelconv2dRelu0_scale = 0.005476578;\n",
    "    PerTensorQuantizationParams t_StatefulPartitionedCallmy_modelconv2dRelu0_quant_params(t_StatefulPartitionedCallmy_modelconv2dRelu0_zp, t_StatefulPartitionedCallmy_modelconv2dRelu0_scale);\n",
    "    t_StatefulPartitionedCallmy_modelconv2dRelu0->set_quantization_params(t_StatefulPartitionedCallmy_modelconv2dRelu0_quant_params);\n",
    "\n",
    "\n",
    "    op_006\n",
    "    .set_inputs({\n",
    "        { QuantizedDepthwiseSeparableConvOperator<int8_t>::in, t_input_1_int80 },\n",
    "        { QuantizedDepthwiseSeparableConvOperator<int8_t>::filter, t_StatefulPartitionedCallmy_modelconv2dConv2DReadVariableOp0 },\n",
    "        { QuantizedDepthwiseSeparableConvOperator<int8_t>::bias, t_StatefulPartitionedCallmy_modelconv2dConv2D_bias0 },\n",
    "    })\n",
    "    .set_outputs({\n",
    "        { QuantizedDepthwiseSeparableConvOperator<int8_t>::out, t_StatefulPartitionedCallmy_modelconv2dRelu0}\n",
    "    })\n",
    "    .eval();\n",
    "\n",
    "    t_StatefulPartitionedCallmy_modelconv2dConv2D_bias0.free();\n",
    "\n",
    "    t_input_1_int80.free();\n",
    "\n",
    "    t_StatefulPartitionedCallmy_modelconv2dConv2DReadVariableOp0.free();\n",
    "\n",
    "    Tensor t_StatefulPartitionedCallmy_modelmax_pooling2dMaxPool0 = new RamTensor({ 1, 5, 5, 32 }, i8);\n",
    "    int32_t t_StatefulPartitionedCallmy_modelmax_pooling2dMaxPool0_zp = -128;\n",
    "    float t_StatefulPartitionedCallmy_modelmax_pooling2dMaxPool0_scale = 0.005476578;\n",
    "    PerTensorQuantizationParams t_StatefulPartitionedCallmy_modelmax_pooling2dMaxPool0_quant_params(t_StatefulPartitionedCallmy_modelmax_pooling2dMaxPool0_zp, t_StatefulPartitionedCallmy_modelmax_pooling2dMaxPool0_scale);\n",
    "    t_StatefulPartitionedCallmy_modelmax_pooling2dMaxPool0->set_quantization_params(t_StatefulPartitionedCallmy_modelmax_pooling2dMaxPool0_quant_params);\n",
    "\n",
    "\n",
    "    op_000\n",
    "    .set_inputs({\n",
    "        { MaxPoolOperator<int8_t>::in, t_StatefulPartitionedCallmy_modelconv2dRelu0 },\n",
    "    })\n",
    "    .set_outputs({\n",
    "        { MaxPoolOperator<int8_t>::out, t_StatefulPartitionedCallmy_modelmax_pooling2dMaxPool0}\n",
    "    })\n",
    "    .eval();\n",
    "\n",
    "    t_StatefulPartitionedCallmy_modelconv2dRelu0.free();\n",
    "\n",
    "    Tensor t_StatefulPartitionedCallmy_modelmax_pooling2dMaxPool_0_Reshape00 = new RamTensor({ 1, 800 }, i8);\n",
    "    int32_t t_StatefulPartitionedCallmy_modelmax_pooling2dMaxPool_0_Reshape00_zp = -128;\n",
    "    float t_StatefulPartitionedCallmy_modelmax_pooling2dMaxPool_0_Reshape00_scale = 0.005476578;\n",
    "    PerTensorQuantizationParams t_StatefulPartitionedCallmy_modelmax_pooling2dMaxPool_0_Reshape00_quant_params(t_StatefulPartitionedCallmy_modelmax_pooling2dMaxPool_0_Reshape00_zp, t_StatefulPartitionedCallmy_modelmax_pooling2dMaxPool_0_Reshape00_scale);\n",
    "    t_StatefulPartitionedCallmy_modelmax_pooling2dMaxPool_0_Reshape00->set_quantization_params(t_StatefulPartitionedCallmy_modelmax_pooling2dMaxPool_0_Reshape00_quant_params);\n",
    "\n",
    "\n",
    "    op_001\n",
    "    .set_inputs({\n",
    "        { ReshapeOperator<int8_t>::input, t_StatefulPartitionedCallmy_modelmax_pooling2dMaxPool0 },\n",
    "    })\n",
    "    .set_outputs({\n",
    "        { ReshapeOperator<int8_t>::output, t_StatefulPartitionedCallmy_modelmax_pooling2dMaxPool_0_Reshape00}\n",
    "    })\n",
    "    .eval();\n",
    "\n",
    "    t_StatefulPartitionedCallmy_modelmax_pooling2dMaxPool0.free();\n",
    "\n",
    "    Tensor t_StatefulPartitionedCallmy_modeldenseMatMulReadVariableOptranspose0 = new RomTensor({ 800, 32 }, i8, data_StatefulPartitionedCall_my_model_dense_MatMul_ReadVariableOp_transpose_0);\n",
    "    int32_t t_StatefulPartitionedCallmy_modeldenseMatMulReadVariableOptranspose0_zp = 0;\n",
    "    float t_StatefulPartitionedCallmy_modeldenseMatMulReadVariableOptranspose0_scale = 0.0043339105;\n",
    "    PerTensorQuantizationParams t_StatefulPartitionedCallmy_modeldenseMatMulReadVariableOptranspose0_quant_params(t_StatefulPartitionedCallmy_modeldenseMatMulReadVariableOptranspose0_zp, t_StatefulPartitionedCallmy_modeldenseMatMulReadVariableOptranspose0_scale);\n",
    "    t_StatefulPartitionedCallmy_modeldenseMatMulReadVariableOptranspose0->set_quantization_params(t_StatefulPartitionedCallmy_modeldenseMatMulReadVariableOptranspose0_quant_params);\n",
    "\n",
    "\n",
    "    Tensor t_StatefulPartitionedCallmy_modeldenseMatMul_bias0 = new RomTensor({ 32 }, i32, data_StatefulPartitionedCall_my_model_dense_MatMul_bias_0);\n",
    "    int32_t t_StatefulPartitionedCallmy_modeldenseMatMul_bias0_zp = 0;\n",
    "    float t_StatefulPartitionedCallmy_modeldenseMatMul_bias0_scale = 2.3735e-05;\n",
    "    PerTensorQuantizationParams t_StatefulPartitionedCallmy_modeldenseMatMul_bias0_quant_params(t_StatefulPartitionedCallmy_modeldenseMatMul_bias0_zp, t_StatefulPartitionedCallmy_modeldenseMatMul_bias0_scale);\n",
    "    t_StatefulPartitionedCallmy_modeldenseMatMul_bias0->set_quantization_params(t_StatefulPartitionedCallmy_modeldenseMatMul_bias0_quant_params);\n",
    "\n",
    "\n",
    "    Tensor t_StatefulPartitionedCallmy_modeldenseRelu0 = new RamTensor({ 1, 32 }, i8);\n",
    "    int32_t t_StatefulPartitionedCallmy_modeldenseRelu0_zp = -128;\n",
    "    float t_StatefulPartitionedCallmy_modeldenseRelu0_scale = 0.073753215;\n",
    "    PerTensorQuantizationParams t_StatefulPartitionedCallmy_modeldenseRelu0_quant_params(t_StatefulPartitionedCallmy_modeldenseRelu0_zp, t_StatefulPartitionedCallmy_modeldenseRelu0_scale);\n",
    "    t_StatefulPartitionedCallmy_modeldenseRelu0->set_quantization_params(t_StatefulPartitionedCallmy_modeldenseRelu0_quant_params);\n",
    "\n",
    "\n",
    "    op_005\n",
    "    .set_inputs({\n",
    "        { QuantizedFullyConnectedOperator<int8_t>::input, t_StatefulPartitionedCallmy_modelmax_pooling2dMaxPool_0_Reshape00 },\n",
    "        { QuantizedFullyConnectedOperator<int8_t>::filter, t_StatefulPartitionedCallmy_modeldenseMatMulReadVariableOptranspose0 },\n",
    "        { QuantizedFullyConnectedOperator<int8_t>::bias, t_StatefulPartitionedCallmy_modeldenseMatMul_bias0 },\n",
    "    })\n",
    "    .set_outputs({\n",
    "        { QuantizedFullyConnectedOperator<int8_t>::output, t_StatefulPartitionedCallmy_modeldenseRelu0}\n",
    "    })\n",
    "    .eval();\n",
    "\n",
    "    t_StatefulPartitionedCallmy_modelmax_pooling2dMaxPool_0_Reshape00.free();\n",
    "\n",
    "    t_StatefulPartitionedCallmy_modeldenseMatMul_bias0.free();\n",
    "\n",
    "    t_StatefulPartitionedCallmy_modeldenseMatMulReadVariableOptranspose0.free();\n",
    "\n",
    "    Tensor t_StatefulPartitionedCallmy_modeldense_1MatMulReadVariableOptranspose0 = new RomTensor({ 32, 10 }, i8, data_StatefulPartitionedCall_my_model_dense_1_MatMul_ReadVariableOp_transpose_0);\n",
    "    int32_t t_StatefulPartitionedCallmy_modeldense_1MatMulReadVariableOptranspose0_zp = 0;\n",
    "    float t_StatefulPartitionedCallmy_modeldense_1MatMulReadVariableOptranspose0_scale = 0.0050673177;\n",
    "    PerTensorQuantizationParams t_StatefulPartitionedCallmy_modeldense_1MatMulReadVariableOptranspose0_quant_params(t_StatefulPartitionedCallmy_modeldense_1MatMulReadVariableOptranspose0_zp, t_StatefulPartitionedCallmy_modeldense_1MatMulReadVariableOptranspose0_scale);\n",
    "    t_StatefulPartitionedCallmy_modeldense_1MatMulReadVariableOptranspose0->set_quantization_params(t_StatefulPartitionedCallmy_modeldense_1MatMulReadVariableOptranspose0_quant_params);\n",
    "\n",
    "\n",
    "    Tensor t_StatefulPartitionedCallmy_modeldense_1MatMul_bias0 = new RomTensor({ 10 }, i32, data_StatefulPartitionedCall_my_model_dense_1_MatMul_bias_0);\n",
    "    int32_t t_StatefulPartitionedCallmy_modeldense_1MatMul_bias0_zp = 0;\n",
    "    float t_StatefulPartitionedCallmy_modeldense_1MatMul_bias0_scale = 0.000373731;\n",
    "    PerTensorQuantizationParams t_StatefulPartitionedCallmy_modeldense_1MatMul_bias0_quant_params(t_StatefulPartitionedCallmy_modeldense_1MatMul_bias0_zp, t_StatefulPartitionedCallmy_modeldense_1MatMul_bias0_scale);\n",
    "    t_StatefulPartitionedCallmy_modeldense_1MatMul_bias0->set_quantization_params(t_StatefulPartitionedCallmy_modeldense_1MatMul_bias0_quant_params);\n",
    "\n",
    "\n",
    "    Tensor t_Identity_int80 = new RamTensor({ 1, 10 }, i8);\n",
    "    int32_t t_Identity_int80_zp = 24;\n",
    "    float t_Identity_int80_scale = 0.11481317;\n",
    "    PerTensorQuantizationParams t_Identity_int80_quant_params(t_Identity_int80_zp, t_Identity_int80_scale);\n",
    "    t_Identity_int80->set_quantization_params(t_Identity_int80_quant_params);\n",
    "\n",
    "\n",
    "    op_003\n",
    "    .set_inputs({\n",
    "        { QuantizedFullyConnectedOperator<int8_t>::input, t_StatefulPartitionedCallmy_modeldenseRelu0 },\n",
    "        { QuantizedFullyConnectedOperator<int8_t>::filter, t_StatefulPartitionedCallmy_modeldense_1MatMulReadVariableOptranspose0 },\n",
    "        { QuantizedFullyConnectedOperator<int8_t>::bias, t_StatefulPartitionedCallmy_modeldense_1MatMul_bias0 },\n",
    "    })\n",
    "    .set_outputs({\n",
    "        { QuantizedFullyConnectedOperator<int8_t>::output, t_Identity_int80}\n",
    "    })\n",
    "    .eval();\n",
    "\n",
    "    t_StatefulPartitionedCallmy_modeldenseRelu0.free();\n",
    "\n",
    "    t_StatefulPartitionedCallmy_modeldense_1MatMul_bias0.free();\n",
    "\n",
    "    t_StatefulPartitionedCallmy_modeldense_1MatMulReadVariableOptranspose0.free();\n",
    "\n",
    "    op_002\n",
    "    .set_inputs({\n",
    "        { TFLM::DequantizeOperator<float, int8_t>::a, t_Identity_int80 },\n",
    "    })\n",
    "    .set_outputs({\n",
    "        { TFLM::DequantizeOperator<float, int8_t>::b, t_Identity0}\n",
    "    })\n",
    "    .eval();\n",
    "\n",
    "    t_Identity_int80.free();\n",
    "    // end of rendering local snippets\n",
    "}\n",
    "```"
   ]
  },
  {
   "cell_type": "markdown",
   "metadata": {},
   "source": [
    "### The input data: `input_image.h`\n",
    "\n",
    "```cpp\n",
    "// the input image pixel values, 28x28 image is flattened into a 1D array\n",
    "const float arr_input_image[784] = {\n",
    "  0.0, 0.0, 0.0, 0.0, 0.0, 0.0, 0.0, 0.0, 0.0, 0.0, 0.0, 0.0, 0.0, 0.0, 0.0, 0.0, 0.0, 0.0, \n",
    "  0.0, 0.0, 0.0, 0.0, 0.0, 0.0, 0.0, 0.0, 0.0, 0.0, 0.0, 0.0, 0.0, 0.0, 0.0, 0.0, 0.0, 0.0,\n",
    "  0.0, 0.0, 0.0, 0.0, 0.0, 0.0, 0.0, 0.0, 0.0, 0.0, 0.0, 0.0, 0.0, 0.0, 0.0, 0.0, 0.0, 0.0,\n",
    "  0.0, 0.0, 0.0, 0.0, 0.0, 0.0, 0.0, 0.0, 0.0, 0.0, 0.0, 0.0, 0.0, 0.0, 0.0, 0.0, 0.0, 0.0, \n",
    "  0.0, 0.0, 0.0, 0.0, 0.0, 0.0, 0.0, 0.0, 0.0, 0.0, 0.0, 0.0, 0.0, 0.0, 0.0, 0.0, 0.0, 0.0, \n",
    "  0.0, 0.0, 0.0, 0.0, 0.0, 0.0, 0.0, 0.0, 0.0, 0.0, 0.0, 0.0, 0.0, 0.0, 0.0, 0.0, 0.0, 0.0, \n",
    "  0.0, 0.0, 0.0, 0.0, 0.0, 0.0, 0.0, 0.0, 0.0, 0.0, 0.0, 0.0, 0.0, 0.0, 0.0, 0.0, 0.0, 0.0, \n",
    "  0.0, 0.0, 0.0, 0.0, 0.0, 0.0, 0.0, 0.0, 0.0, 0.0, 0.0, 0.0, 0.0, 0.0, 0.0, 0.0, 0.0, 0.0, \n",
    "  0.0, 0.0, 0.0, 0.0, 0.0, 0.0, 0.0, 0.0, 0.0, 0.0, 0.0, 0.0, 0.0, 0.0, 0.0, 0.0, 0.0, 0.0, \n",
    "  0.0, 0.0, 0.0, 0.0, 0.0, 0.0, 0.0, 0.0, 0.0, 0.0, 0.0, 0.0, 0.0, 0.0, 0.0, 0.0, 0.0, 0.0, \n",
    "  0.0, 0.0, 0.0, 0.0, 0.0, 0.0, 0.0, 0.0, 0.0, 0.0, 0.0, 0.0, 0.0, 0.0, 0.0, 0.0, 0.0, 0.0, \n",
    "  0.0, 0.0, 0.0, 0.0, 0.32941176470588235, 0.7254901960784313, 0.6235294117647059, 0.592156862745098, \n",
    "  0.23529411764705882, 0.1411764705882353, 0.0, 0.0, 0.0, 0.0, 0.0, 0.0, 0.0, 0.0, 0.0, 0.0, 0.0, 0.0, 0.0, \n",
    "  0.0, 0.0, 0.0, 0.0, 0.0, 0.0, 0.0, 0.0, 0.0, 0.8705882352941177, 0.996078431372549, 0.996078431372549, \n",
    "  0.996078431372549, 0.996078431372549, 0.9450980392156862, 0.7764705882352941, 0.7764705882352941, 0.7764705882352941, \n",
    "  0.7764705882352941, 0.7764705882352941, 0.7764705882352941, 0.7764705882352941, 0.7764705882352941, \n",
    "  0.6666666666666666, 0.20392156862745098, 0.0, 0.0, 0.0, 0.0, 0.0, 0.0, 0.0, 0.0, 0.0, 0.0, 0.0, 0.0, 0.2627450980392157, \n",
    "  0.4470588235294118, 0.2823529411764706, 0.4470588235294118, 0.6392156862745098, 0.8901960784313725, 0.996078431372549, \n",
    "  .8823529411764706, 0.996078431372549, 0.996078431372549, 0.996078431372549, 0.9803921568627451, 0.8980392156862745, \n",
    "  0.996078431372549, 0.996078431372549, 0.5490196078431373, 0.0, 0.0, 0.0, 0.0, 0.0, 0.0, 0.0, 0.0, 0.0, 0.0, 0.0, 0.0, \n",
    "  0.0, 0.0, 0.0, 0.0, 0.0, 0.06666666666666667, 0.25882352941176473, 0.054901960784313725, 0.2627450980392157, 0.2627450980392157, \n",
    "  0.2627450980392157, 0.23137254901960785, 0.08235294117647059, 0.9254901960784314, 0.996078431372549, 0.41568627450980394, \n",
    "  0.0, 0.0, 0.0, 0.0, 0.0, 0.0, 0.0, 0.0, 0.0, 0.0, 0.0, 0.0, 0.0, 0.0, 0.0, 0.0, 0.0, 0.0, 0.0, 0.0, 0.0, 0.0, 0.0, 0.0, \n",
    "  0.3254901960784314, 0.9921568627450981, 0.8196078431372549, 0.07058823529411765, 0.0, 0.0, 0.0, 0.0, 0.0, 0.0, 0.0, 0.0, \n",
    "  0.0, 0.0, 0.0, 0.0, 0.0, 0.0, 0.0, 0.0, 0.0, 0.0, 0.0, 0.0, 0.0, 0.0, 0.0, 0.08627450980392157, 0.9137254901960784, 1.0, \n",
    "  0.3254901960784314, 0.0, 0.0, 0.0, 0.0, 0.0, 0.0, 0.0, 0.0, 0.0, 0.0, 0.0, 0.0, 0.0, 0.0, 0.0, 0.0, 0.0, 0.0, 0.0, 0.0, \n",
    "  0.0, 0.0, 0.0, 0.0, 0.5058823529411764, 0.996078431372549, 0.9333333333333333, 0.17254901960784313, 0.0, 0.0, 0.0, 0.0, \n",
    "  0.0, 0.0, 0.0, 0.0, 0.0, 0.0, 0.0, 0.0, 0.0, 0.0, 0.0, 0.0, 0.0, 0.0, 0.0, 0.0, 0.0, 0.0, 0.0, 0.23137254901960785, \n",
    "  0.9764705882352941, 0.996078431372549, 0.24313725490196078, 0.0, 0.0, 0.0, 0.0, 0.0, 0.0, 0.0, 0.0, 0.0, 0.0, 0.0, 0.0, \n",
    "  0.0, 0.0, 0.0, 0.0, 0.0, 0.0, 0.0, 0.0, 0.0, 0.0, 0.0, 0.0, 0.5215686274509804, 0.996078431372549, 0.7333333333333333, \n",
    "  0.0196078431372549, 0.0, 0.0, 0.0, 0.0, 0.0, 0.0, 0.0, 0.0, 0.0, 0.0, 0.0, 0.0, 0.0, 0.0, 0.0, 0.0, 0.0, 0.0, 0.0, 0.0, \n",
    "  0.0, 0.0, 0.0, 0.03529411764705882, 0.803921568627451, 0.9725490196078431, 0.22745098039215686, 0.0, 0.0, 0.0, 0.0, 0.0, \n",
    "  0.0, 0.0, 0.0, 0.0, 0.0, 0.0, 0.0, 0.0, 0.0, 0.0, 0.0, 0.0, 0.0, 0.0, 0.0, 0.0, 0.0, 0.0, 0.0, 0.49411764705882355, \n",
    "  0.996078431372549, 0.7137254901960784, 0.0, 0.0, 0.0, 0.0, 0.0, 0.0, 0.0, 0.0, 0.0, 0.0, 0.0, 0.0, 0.0, 0.0, 0.0, \n",
    "  0.0, 0.0, 0.0, 0.0, 0.0, 0.0, 0.0, 0.0, 0.0, 0.29411764705882354, 0.984313725490196, 0.9411764705882353, 0.2235294117647059, \n",
    "  0.0, 0.0, 0.0, 0.0, 0.0, 0.0, 0.0, 0.0, 0.0, 0.0, 0.0, 0.0, 0.0, 0.0, 0.0, 0.0, 0.0, 0.0, 0.0, 0.0, 0.0, 0.0, 0.0, 0.07450980392156863, \n",
    "  0.8666666666666667, 0.996078431372549, 0.6509803921568628, 0.0, 0.0, 0.0, 0.0, 0.0, 0.0, 0.0, 0.0, 0.0, 0.0, 0.0, 0.0, 0.0, 0.0, 0.0, \n",
    "  0.0, 0.0, 0.0, 0.0, 0.0, 0.0, 0.0, 0.0, 0.011764705882352941, 0.796078431372549, 0.996078431372549, 0.8588235294117647, 0.13725490196078433, \n",
    "  0.0, 0.0, 0.0, 0.0, 0.0, 0.0, 0.0, 0.0, 0.0, 0.0, 0.0, 0.0, 0.0, 0.0, 0.0, 0.0, 0.0, 0.0, 0.0, 0.0, 0.0, 0.0, 0.0, 0.14901960784313725, \n",
    "  0.996078431372549, 0.996078431372549, 0.30196078431372547, 0.0, 0.0, 0.0, 0.0, 0.0, 0.0, 0.0, 0.0, 0.0, 0.0, 0.0, 0.0, 0.0, 0.0, 0.0, \n",
    "  0.0, 0.0, 0.0, 0.0, 0.0, 0.0, 0.0, 0.0, 0.12156862745098039, 0.8784313725490196, 0.996078431372549, 0.45098039215686275, 0.00392156862745098, \n",
    "  0.0, 0.0, 0.0, 0.0, 0.0, 0.0, 0.0, 0.0, 0.0, 0.0, 0.0, 0.0, 0.0, 0.0, 0.0, 0.0, 0.0, 0.0, 0.0, 0.0, 0.0, 0.0, 0.0, 0.5215686274509804, \n",
    "  0.996078431372549, 0.996078431372549, 0.20392156862745098, 0.0, 0.0, 0.0, 0.0, 0.0, 0.0, 0.0, 0.0, 0.0, 0.0, 0.0, 0.0, 0.0, 0.0, 0.0, 0.0, \n",
    "  0.0, 0.0, 0.0, 0.0, 0.0, 0.0, 0.0, 0.23921568627450981, 0.9490196078431372, 0.996078431372549, 0.996078431372549, 0.20392156862745098, \n",
    "  0.0, 0.0, 0.0, 0.0, 0.0, 0.0, 0.0, 0.0, 0.0, 0.0, 0.0, 0.0, 0.0, 0.0, 0.0, 0.0, 0.0, 0.0, 0.0, 0.0, 0.0, 0.0, 0.0, 0.4745098039215686, \n",
    "  0.996078431372549, 0.996078431372549, 0.8588235294117647, 0.1568627450980392, 0.0, 0.0, 0.0, 0.0, 0.0, 0.0, 0.0, 0.0, 0.0, 0.0, 0.0, \n",
    "  0.0, 0.0, 0.0, 0.0, 0.0, 0.0, 0.0, 0.0, 0.0, 0.0, 0.0, 0.0, 0.4745098039215686, 0.996078431372549, 0.8117647058823529, 0.07058823529411765, \n",
    "  0.0, 0.0, 0.0, 0.0, 0.0, 0.0, 0.0, 0.0, 0.0, 0.0, 0.0, 0.0, 0.0, 0.0, 0.0, 0.0, 0.0, 0.0, 0.0, 0.0, 0.0, 0.0, 0.0, 0.0, 0.0, 0.0, 0.0, 0.0, \n",
    "  0.0, 0.0, 0.0, 0.0, 0.0, 0.0, 0.0, 0.0, 0.0, 0.0, 0.0, 0.0, 0.0, 0.0 };\n",
    "```"
   ]
  },
  {
   "cell_type": "markdown",
   "metadata": {
    "heading_collapsed": true
   },
   "source": [
    "### Write `main.cpp`\n",
    "\n",
    "```cpp\n",
    "#include <cmath>\n",
    "#include <iostream>\n",
    "\n",
    "// include the model header and uTensor\n",
    "#include \"models/model/model.hpp\"\n",
    "// include the input image data for this demo\n",
    "#include \"input_image.h\"\n",
    "#include \"uTensor.h\"\n",
    "\n",
    "using namespace uTensor;\n",
    "\n",
    "using std::cout;\n",
    "using std::endl;\n",
    "\n",
    "// meta_allocator and ram_allocator will limit the memory usage for\n",
    "// 1. the meta data: the meta data of the operators or the tensors, such as shape, dimensions, ...etc\n",
    "// 2. the ram: it's where to store all the values of tensors in the model\n",
    "static localCircularArenaAllocator<2048> meta_allocator;\n",
    "static localCircularArenaAllocator<40000, uint32_t> ram_allocator;\n",
    "\n",
    "int main(int argc, const char** argv) {\n",
    "  // before allocating any tesnors/operators, make sure you set the allocators properly\n",
    "  Context::get_default_context()->set_metadata_allocator(&meta_allocator);\n",
    "  Context::get_default_context()->set_ram_data_allocator(&ram_allocator);\n",
    "  \n",
    "  // create the input/output tensor\n",
    "  Tensor input_image = new RomTensor({1, 28, 28, 1}, flt, arr_input_image);\n",
    "  Tensor logits = new RamTensor({1, 10}, flt);\n",
    "  // evaluate the model\n",
    "  compute_model(input_image, logits);\n",
    "\n",
    "  // make prediction\n",
    "  float max_value = static_cast<float>(logits(0));\n",
    "  int max_index = 0;\n",
    "  for (int i = 1; i < 10; ++i) {\n",
    "    float value = static_cast<float>(logits(i));\n",
    "    if (value >= max_value) {\n",
    "      max_value = value;\n",
    "      max_index = i;\n",
    "    }\n",
    "  }\n",
    "  cout << \"pred label: \" << max_index << endl;\n",
    "  return 0;\n",
    "}\n",
    "```"
   ]
  },
  {
   "cell_type": "markdown",
   "metadata": {},
   "source": [
    "### Compile and Run\n",
    "\n",
    "![end2end-output](images/end2end_keras_output.png)"
   ]
  },
  {
   "cell_type": "code",
   "execution_count": null,
   "metadata": {},
   "outputs": [],
   "source": []
  }
 ],
 "metadata": {
  "kernelspec": {
   "display_name": "utensor",
   "language": "python",
   "name": "utensor"
  },
  "language_info": {
   "codemirror_mode": {
    "name": "ipython",
    "version": 3
   },
   "file_extension": ".py",
   "mimetype": "text/x-python",
   "name": "python",
   "nbconvert_exporter": "python",
   "pygments_lexer": "ipython3",
   "version": "3.7.2"
  },
  "toc": {
   "base_numbering": 1,
   "nav_menu": {},
   "number_sections": true,
   "sideBar": true,
   "skip_h1_title": false,
   "title_cell": "Table of Contents",
   "title_sidebar": "Contents",
   "toc_cell": false,
   "toc_position": {},
   "toc_section_display": true,
   "toc_window_display": false
  }
 },
 "nbformat": 4,
 "nbformat_minor": 4
}
