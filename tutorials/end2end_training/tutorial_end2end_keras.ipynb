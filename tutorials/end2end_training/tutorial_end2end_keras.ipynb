{
 "cells": [
  {
   "cell_type": "markdown",
   "metadata": {},
   "source": [
    "## Imports"
   ]
  },
  {
   "cell_type": "code",
   "execution_count": 1,
   "metadata": {
    "ExecuteTime": {
     "end_time": "2020-06-12T10:59:50.308875Z",
     "start_time": "2020-06-12T10:59:46.306451Z"
    }
   },
   "outputs": [],
   "source": [
    "from utensor_cgen.api.export import tflm_keras_export"
   ]
  },
  {
   "cell_type": "code",
   "execution_count": 2,
   "metadata": {
    "ExecuteTime": {
     "end_time": "2020-06-12T10:59:50.341371Z",
     "start_time": "2020-06-12T10:59:50.311275Z"
    }
   },
   "outputs": [],
   "source": [
    "import tensorflow as tf\n",
    "import numpy as np\n",
    "\n",
    "from tensorflow.keras.layers import Dense, Flatten, Conv2D, MaxPooling2D\n",
    "from tensorflow.keras import Model"
   ]
  },
  {
   "cell_type": "markdown",
   "metadata": {},
   "source": [
    "## Define Model"
   ]
  },
  {
   "cell_type": "code",
   "execution_count": 3,
   "metadata": {
    "ExecuteTime": {
     "end_time": "2020-06-12T10:59:50.372889Z",
     "start_time": "2020-06-12T10:59:50.356131Z"
    }
   },
   "outputs": [],
   "source": [
    "class MyModel(Model):\n",
    "    def __init__(self):\n",
    "        super(MyModel, self).__init__()\n",
    "        self.conv1 = Conv2D(32, 3, activation='relu')\n",
    "        self.pool = MaxPooling2D(pool_size=(5,5))\n",
    "        self.flatten = Flatten()\n",
    "        self.d1 = Dense(32, activation='relu')\n",
    "        self.d2 = Dense(10)\n",
    "\n",
    "    def call(self, x):\n",
    "        x0 = self.conv1(x)\n",
    "        x1 = self.pool(x0)\n",
    "        x2 = self.flatten(x1)\n",
    "        x3 = self.d1(x2)\n",
    "        return self.d2(x3)\n",
    "\n",
    "# Create an instance of the model\n",
    "model = MyModel()"
   ]
  },
  {
   "cell_type": "markdown",
   "metadata": {},
   "source": [
    "## Training"
   ]
  },
  {
   "cell_type": "code",
   "execution_count": 4,
   "metadata": {
    "ExecuteTime": {
     "end_time": "2020-06-12T10:59:50.867762Z",
     "start_time": "2020-06-12T10:59:50.375674Z"
    }
   },
   "outputs": [],
   "source": [
    "mnist = tf.keras.datasets.mnist\n",
    "\n",
    "(x_train, y_train), (x_test, y_test) = mnist.load_data()\n",
    "x_train, x_test = x_train / 255.0, x_test / 255.0\n",
    "\n",
    "# Add a channels dimension\n",
    "x_train = x_train[..., tf.newaxis]\n",
    "x_test = x_test[..., tf.newaxis]"
   ]
  },
  {
   "cell_type": "code",
   "execution_count": 5,
   "metadata": {
    "ExecuteTime": {
     "end_time": "2020-06-12T10:59:50.902223Z",
     "start_time": "2020-06-12T10:59:50.870147Z"
    }
   },
   "outputs": [],
   "source": [
    "train_ds = tf.data.Dataset.from_tensor_slices(\n",
    "    (x_train, y_train)\n",
    ").shuffle(10000).batch(32)\n",
    "\n",
    "test_ds = tf.data.Dataset.from_tensor_slices((x_test, y_test)).batch(32)"
   ]
  },
  {
   "cell_type": "code",
   "execution_count": 6,
   "metadata": {
    "ExecuteTime": {
     "end_time": "2020-06-12T10:59:50.915077Z",
     "start_time": "2020-06-12T10:59:50.903759Z"
    }
   },
   "outputs": [],
   "source": [
    "loss_object = tf.keras.losses.SparseCategoricalCrossentropy(from_logits=True)\n",
    "optimizer = tf.keras.optimizers.Adam()\n",
    "\n",
    "train_loss = tf.keras.metrics.Mean(name='train_loss')\n",
    "train_accuracy = tf.keras.metrics.SparseCategoricalAccuracy(name='train_accuracy')\n",
    "\n",
    "test_loss = tf.keras.metrics.Mean(name='test_loss')\n",
    "test_accuracy = tf.keras.metrics.SparseCategoricalAccuracy(name='test_accuracy')"
   ]
  },
  {
   "cell_type": "code",
   "execution_count": 7,
   "metadata": {
    "ExecuteTime": {
     "end_time": "2020-06-12T10:59:50.923379Z",
     "start_time": "2020-06-12T10:59:50.918592Z"
    }
   },
   "outputs": [],
   "source": [
    "@tf.function\n",
    "def train_step(images, labels):\n",
    "    with tf.GradientTape() as tape:\n",
    "        predictions = model(images, training=True)\n",
    "        loss = loss_object(labels, predictions)\n",
    "    gradients = tape.gradient(loss, model.trainable_variables)\n",
    "    optimizer.apply_gradients(zip(gradients, model.trainable_variables))\n",
    "\n",
    "    train_loss(loss)\n",
    "    train_accuracy(labels, predictions)"
   ]
  },
  {
   "cell_type": "code",
   "execution_count": 8,
   "metadata": {
    "ExecuteTime": {
     "end_time": "2020-06-12T10:59:50.930732Z",
     "start_time": "2020-06-12T10:59:50.927615Z"
    }
   },
   "outputs": [],
   "source": [
    "@tf.function\n",
    "def test_step(images, labels):\n",
    "    predictions = model(images, training=False)\n",
    "    t_loss = loss_object(labels, predictions)\n",
    "\n",
    "    test_loss(t_loss)\n",
    "    test_accuracy(labels, predictions)"
   ]
  },
  {
   "cell_type": "code",
   "execution_count": 9,
   "metadata": {
    "ExecuteTime": {
     "end_time": "2020-06-12T11:00:01.987531Z",
     "start_time": "2020-06-12T10:59:50.933923Z"
    }
   },
   "outputs": [
    {
     "name": "stdout",
     "output_type": "stream",
     "text": [
      "WARNING:tensorflow:Layer my_model is casting an input tensor from dtype float64 to the layer's dtype of float32, which is new behavior in TensorFlow 2.  The layer has dtype float32 because it's dtype defaults to floatx.\n",
      "\n",
      "If you intended to run this layer in float32, you can safely ignore this warning. If in doubt, this warning is likely only an issue if you are porting a TensorFlow 1.X model to TensorFlow 2.\n",
      "\n",
      "To change all layers to have dtype float64 by default, call `tf.keras.backend.set_floatx('float64')`. To change just this layer, pass dtype='float64' to the layer constructor. If you are the author of this layer, you can disable autocasting by passing autocast=False to the base Layer constructor.\n",
      "\n",
      "Epoch 1, Loss: 0.32633742690086365, Accuracy: 90.31166076660156, Test Loss: 0.12388788908720016, Test Accuracy: 96.2300033569336\n"
     ]
    }
   ],
   "source": [
    "EPOCHS = 1\n",
    "\n",
    "for epoch in range(EPOCHS):\n",
    "    # Reset the metrics at the start of the next epoch\n",
    "    train_loss.reset_states()\n",
    "    train_accuracy.reset_states()\n",
    "    test_loss.reset_states()\n",
    "    test_accuracy.reset_states()\n",
    "\n",
    "    for images, labels in train_ds:\n",
    "        train_step(images, labels)\n",
    "\n",
    "    for test_images, test_labels in test_ds:\n",
    "        test_step(test_images, test_labels)\n",
    "\n",
    "    template = 'Epoch {}, Loss: {}, Accuracy: {}, Test Loss: {}, Test Accuracy: {}'\n",
    "    print(template.format(epoch+1,\n",
    "                          train_loss.result(),\n",
    "                          train_accuracy.result()*100,\n",
    "                          test_loss.result(),\n",
    "                          test_accuracy.result()*100))"
   ]
  },
  {
   "cell_type": "code",
   "execution_count": 10,
   "metadata": {
    "ExecuteTime": {
     "end_time": "2020-06-12T11:00:02.323185Z",
     "start_time": "2020-06-12T11:00:01.989576Z"
    }
   },
   "outputs": [
    {
     "name": "stdout",
     "output_type": "stream",
     "text": [
      "WARNING:tensorflow:From /Users/dboyliao/Work/open_source/uTensor/utensor_cgen/.venv/lib/python3.7/site-packages/tensorflow_core/python/ops/resource_variable_ops.py:1786: calling BaseResourceVariable.__init__ (from tensorflow.python.ops.resource_variable_ops) with constraint is deprecated and will be removed in a future version.\n",
      "Instructions for updating:\n",
      "If using Keras pass *_constraint arguments to layers.\n",
      "INFO:tensorflow:Assets written to: saved_model/test_model/assets\n"
     ]
    }
   ],
   "source": [
    "model.save('saved_model/test_model')"
   ]
  },
  {
   "cell_type": "markdown",
   "metadata": {},
   "source": [
    "## Exporting to uTensor"
   ]
  },
  {
   "cell_type": "code",
   "execution_count": 11,
   "metadata": {
    "ExecuteTime": {
     "end_time": "2020-06-12T11:00:02.333621Z",
     "start_time": "2020-06-12T11:00:02.325379Z"
    }
   },
   "outputs": [],
   "source": [
    "# representative data function\n",
    "num_calibration_steps = 128\n",
    "calibration_dtype = tf.float32\n",
    "\n",
    "def representative_dataset_gen():\n",
    "    for _ in range(num_calibration_steps):\n",
    "        rand_idx = np.random.randint(0, x_test.shape[0]-1)\n",
    "        sample = x_test[rand_idx]\n",
    "        sample = sample[tf.newaxis, ...]\n",
    "        sample = tf.cast(sample, dtype=calibration_dtype)\n",
    "        yield [sample]"
   ]
  },
  {
   "cell_type": "code",
   "execution_count": 13,
   "metadata": {
    "ExecuteTime": {
     "end_time": "2020-06-12T11:04:55.132561Z",
     "start_time": "2020-06-12T11:04:49.480384Z"
    }
   },
   "outputs": [
    {
     "name": "stdout",
     "output_type": "stream",
     "text": [
      "[WARNING base.py __attrs_post_init__ @ 300] cannot convert new_shape to generic value: [1, 800](<class 'list'>)\n",
      "[WARNING quantize.py <module> @ 12] trying to import deprecated quantization transformer\n",
      "[INFO transformer.py transform @ 23] Transforming graph: my_model\n",
      "[INFO transformer.py transform @ 24] Transform pipeline: dropout(name_pattern=r'(dropout[_\\w\\d]*)/.*') -> linear_reorder -> inline -> biasAdd -> remove_id_op -> fake_gather_v2 -> refcnt\n",
      "[WARNING base.py __attrs_post_init__ @ 300] cannot convert new_shape to generic value: [1, 800](<class 'list'>)\n",
      "[WARNING base.py __attrs_post_init__ @ 300] cannot convert new_shape to generic value: [1, 800](<class 'list'>)\n",
      "[WARNING base.py __attrs_post_init__ @ 300] cannot convert new_shape to generic value: [1, 800](<class 'list'>)\n",
      "[WARNING base.py __attrs_post_init__ @ 300] cannot convert new_shape to generic value: [1, 800](<class 'list'>)\n",
      "[WARNING ns_transformer.py transform @ 243] enabling fake_gather_v2 will force replacing GatherV2 with Gather\n",
      "[WARNING base.py __attrs_post_init__ @ 300] cannot convert new_shape to generic value: [1, 800](<class 'list'>)\n",
      "[WARNING base.py __attrs_post_init__ @ 300] cannot convert new_shape to generic value: [1, 800](<class 'list'>)\n",
      "[INFO transformer.py transform @ 31] Graph transormation done\n",
      "[INFO generic_graph_lower.py apply @ 56] topo ordered tensor life span analysis done\n",
      "[INFO utils.py wrapped @ 469] collapsed time of calling apply: 0.0023 seconds\n",
      "[INFO generic_graph_lower.py _solve_space_alloc @ 204] optimal tensor allocation plan solved, total memory required: 22432 bytes\n",
      "[INFO generic_graph_lower.py _solve_space_alloc @ 205] number of tensors allocated: 7\n",
      "[INFO utils.py wrapped @ 469] collapsed time of calling _solve_space_alloc: 0.0696 seconds\n",
      "[INFO _code_generator.py _time_slot_generate_files @ 246] model parameters header file generated: constants/my_model/params_my_model.hpp\n",
      "[INFO _code_generator.py _time_slot_generate_files @ 266] model header file generated: models/my_model/my_model.hpp\n",
      "[INFO _code_generator.py _time_slot_generate_files @ 285] model cpp file generated: models/my_model/my_model.cpp\n"
     ]
    }
   ],
   "source": [
    "tflm_keras_export(\n",
    "    'saved_model/test_model',\n",
    "    representive_dataset=representative_dataset_gen,\n",
    "    model_name='my_model',\n",
    "    target='utensor',\n",
    ")"
   ]
  },
  {
   "cell_type": "markdown",
   "metadata": {
    "ExecuteTime": {
     "end_time": "2020-05-15T05:22:31.997930Z",
     "start_time": "2020-05-15T05:22:31.986846Z"
    }
   },
   "source": [
    "### Generated Cpp Files"
   ]
  },
  {
   "cell_type": "markdown",
   "metadata": {
    "ExecuteTime": {
     "end_time": "2020-06-12T11:16:36.916419Z",
     "start_time": "2020-06-12T11:16:36.907130Z"
    }
   },
   "source": [
    "####  `models/my_model/my_model.hpp`\n",
    "\n",
    "```cpp\n",
    "/* Auto-generated by utensor cli */\n",
    "#ifndef __MY_MODEL_INTERFACE_H\n",
    "#define __MY_MODEL_INTERFACE_H\n",
    "#include \"uTensor.h\"\n",
    "\n",
    "using namespace uTensor;\n",
    "\n",
    "class My_model : public ModelInterface<1, 1> \n",
    "{\n",
    " public:\n",
    "  enum input_names : uint8_t { input_0 };\n",
    "  enum output_names : uint8_t { output_0 };\n",
    "  My_model();\n",
    " protected:\n",
    "  virtual void compute();\n",
    " private:\n",
    "  // Operators\n",
    "  TflmSymQuantOps::QuantizeOperator<int8_t, float> op_000;\n",
    "\n",
    "  TflmSymQuantOps::FullyConnectedOperator<int8_t> op_001;\n",
    "\n",
    "  ReferenceOperators::ReshapeOperator<int8_t> op_002;\n",
    "\n",
    "  TflmSymQuantOps::FullyConnectedOperator<int8_t> op_003;\n",
    "\n",
    "  TflmSymQuantOps::DepthwiseSeparableConvOperator<int8_t> op_004;\n",
    "\n",
    "  ReferenceOperators::MaxPoolOperator<int8_t> op_005;\n",
    "\n",
    "  TflmSymQuantOps::DequantizeOperator<float, int8_t> op_006;\n",
    "\n",
    "  // memory allocators\n",
    "  localCircularArenaAllocator<25432, uint16_t> ram_allocator;\n",
    "  localCircularArenaAllocator<896, uint16_t> metadata_allocator;\n",
    "};\n",
    "\n",
    "#endif // __MY_MODEL_INTERFACE_H\n",
    "```"
   ]
  },
  {
   "cell_type": "markdown",
   "metadata": {
    "ExecuteTime": {
     "end_time": "2020-06-12T11:08:49.318837Z",
     "start_time": "2020-06-12T11:08:49.307821Z"
    }
   },
   "source": [
    "#### `models/my_model/my_model.cpp`\n",
    "\n",
    "```cpp\n",
    "/* Auto-generated by utensor cli */\n",
    "#include \"uTensor.h\"\n",
    "#include \"models/my_model/my_model.hpp\"\n",
    "#include \"constants/my_model/params_my_model.hpp\"\n",
    "\n",
    "\n",
    "My_model::My_model () :\n",
    "op_000()\n",
    ", op_001(TFLM::TfLiteFusedActivation::kTfLiteActNone)\n",
    ", op_002({ 1, 800 })\n",
    ", op_003(TFLM::TfLiteFusedActivation::kTfLiteActRelu)\n",
    ", op_004({ 1, 1 }, VALID, 32, { 1, 1 }, TFLM::TfLiteFusedActivation::kTfLiteActRelu)\n",
    ", op_005({ 5, 5 }, { 1, 5, 5, 1 }, VALID)\n",
    ", op_006()\n",
    "{\n",
    "  // meta_allocator and ram_allocator will limit the memory usage for\n",
    "  // 1. the meta data: the meta data of the operators or the tensors, such as shape, dimensions, ...etc\n",
    "  // 2. the ram: it's where to store all the values of tensors in the model\n",
    "  Context::get_default_context()->set_ram_data_allocator(&ram_allocator);\n",
    "  Context::get_default_context()->set_metadata_allocator(&metadata_allocator);\n",
    "}\n",
    "\n",
    "void My_model::compute()\n",
    "{\n",
    "  // update context in case there are multiple models being run\n",
    "  Context::get_default_context()->set_ram_data_allocator(&ram_allocator);\n",
    "  Context::get_default_context()->set_metadata_allocator(&metadata_allocator);\n",
    "  // start rendering local snippets\n",
    "  Tensor t_input_1_int80 = new RamTensor({ 1, 28, 28, 1 }, i8);\n",
    "    int32_t t_input_1_int80_zp = -128;\n",
    "    float t_input_1_int80_scale = 0.003921569;\n",
    "    PerTensorQuantizationParams t_input_1_int80_quant_params(t_input_1_int80_zp, t_input_1_int80_scale);\n",
    "    t_input_1_int80->set_quantization_params(t_input_1_int80_quant_params);\n",
    "\n",
    "\n",
    "  op_000\n",
    "    .set_inputs({\n",
    "        { TflmSymQuantOps::QuantizeOperator<int8_t, float>::input, inputs[input_0].tensor() },\n",
    "    })\n",
    "    .set_outputs({\n",
    "        { TflmSymQuantOps::QuantizeOperator<int8_t, float>::output, t_input_1_int80}\n",
    "    })\n",
    "    .eval();\n",
    "\n",
    "  Tensor t_StatefulPartitionedCallmy_modelconv2dConv2DReadVariableOp0 = new RomTensor({ 1, 3, 3, 32 }, i8, data_StatefulPartitionedCall_my_model_conv2d_Conv2D_ReadVariableOp_0);\n",
    "    int32_t arr_t_StatefulPartitionedCallmy_modelconv2dConv2DReadVariableOp0_zp[32] = { 0, 0, 0, 0, 0, 0, 0, 0, 0, 0, 0, 0, 0, 0, 0, 0, 0, 0, 0, 0, 0, 0, 0, 0, 0, 0, 0, 0, 0, 0, 0, 0 };\n",
    "    float arr_t_StatefulPartitionedCallmy_modelconv2dConv2DReadVariableOp0_scale[32] = { 0.0031114144, 0.002765589, 0.0031076465, 0.004831041, 0.0031503097, 0.0045163357, 0.004590568, 0.0035090088, 0.0015731168, 0.0062146154, 0.0043545393, 0.003243946, 0.003846171, 0.0016646852, 0.0023602743, 0.004048715, 0.0039715217, 0.0019010877, 0.0022127707, 0.0020530561, 0.0020105331, 0.0035584292, 0.0019574412, 0.0036743984, 0.0039481325, 0.0046360553, 0.005471392, 0.003234954, 0.0021135923, 0.0019120594, 0.0028307263, 0.0020734943 };\n",
    "    PerChannelQuantizationParams t_StatefulPartitionedCallmy_modelconv2dConv2DReadVariableOp0_quant_params(arr_t_StatefulPartitionedCallmy_modelconv2dConv2DReadVariableOp0_zp, arr_t_StatefulPartitionedCallmy_modelconv2dConv2DReadVariableOp0_scale);\n",
    "    t_StatefulPartitionedCallmy_modelconv2dConv2DReadVariableOp0->set_quantization_params(t_StatefulPartitionedCallmy_modelconv2dConv2DReadVariableOp0_quant_params);\n",
    "\n",
    "\n",
    "  Tensor t_StatefulPartitionedCallmy_modelconv2dConv2D_bias0 = new RomTensor({ 32 }, i32, data_StatefulPartitionedCall_my_model_conv2d_Conv2D_bias_0);\n",
    "    int32_t arr_t_StatefulPartitionedCallmy_modelconv2dConv2D_bias0_zp[32] = { 0, 0, 0, 0, 0, 0, 0, 0, 0, 0, 0, 0, 0, 0, 0, 0, 0, 0, 0, 0, 0, 0, 0, 0, 0, 0, 0, 0, 0, 0, 0, 0 };\n",
    "    float arr_t_StatefulPartitionedCallmy_modelconv2dConv2D_bias0_scale[32] = { 1.2201625e-05, 1.0845448e-05, 1.218685e-05, 1.894526e-05, 1.2354156e-05, 1.7711121e-05, 1.8002229e-05, 1.37608195e-05, 6.1690857e-06, 2.4371042e-05, 1.7076625e-05, 1.2721358e-05, 1.5083025e-05, 6.5281774e-06, 9.2559785e-06, 1.5877315e-05, 1.5574597e-05, 7.4552463e-06, 8.677533e-06, 8.051201e-06, 7.884444e-06, 1.39546255e-05, 7.676241e-06, 1.44094065e-05, 1.5482874e-05, 1.818061e-05, 2.145644e-05, 1.2686095e-05, 8.288598e-06, 7.4982727e-06, 1.11008885e-05, 8.13135e-06 };\n",
    "    PerChannelQuantizationParams t_StatefulPartitionedCallmy_modelconv2dConv2D_bias0_quant_params(arr_t_StatefulPartitionedCallmy_modelconv2dConv2D_bias0_zp, arr_t_StatefulPartitionedCallmy_modelconv2dConv2D_bias0_scale);\n",
    "    t_StatefulPartitionedCallmy_modelconv2dConv2D_bias0->set_quantization_params(t_StatefulPartitionedCallmy_modelconv2dConv2D_bias0_quant_params);\n",
    "\n",
    "\n",
    "  Tensor t_StatefulPartitionedCallmy_modelconv2dRelu0 = new RamTensor({ 1, 26, 26, 32 }, i8);\n",
    "    int32_t t_StatefulPartitionedCallmy_modelconv2dRelu0_zp = -128;\n",
    "    float t_StatefulPartitionedCallmy_modelconv2dRelu0_scale = 0.0058112345;\n",
    "    PerTensorQuantizationParams t_StatefulPartitionedCallmy_modelconv2dRelu0_quant_params(t_StatefulPartitionedCallmy_modelconv2dRelu0_zp, t_StatefulPartitionedCallmy_modelconv2dRelu0_scale);\n",
    "    t_StatefulPartitionedCallmy_modelconv2dRelu0->set_quantization_params(t_StatefulPartitionedCallmy_modelconv2dRelu0_quant_params);\n",
    "\n",
    "\n",
    "  op_004\n",
    "    .set_inputs({\n",
    "        { TflmSymQuantOps::DepthwiseSeparableConvOperator<int8_t>::in, t_input_1_int80 },\n",
    "        { TflmSymQuantOps::DepthwiseSeparableConvOperator<int8_t>::filter, t_StatefulPartitionedCallmy_modelconv2dConv2DReadVariableOp0 },\n",
    "        { TflmSymQuantOps::DepthwiseSeparableConvOperator<int8_t>::bias, t_StatefulPartitionedCallmy_modelconv2dConv2D_bias0 },\n",
    "    })\n",
    "    .set_outputs({\n",
    "        { TflmSymQuantOps::DepthwiseSeparableConvOperator<int8_t>::out, t_StatefulPartitionedCallmy_modelconv2dRelu0}\n",
    "    })\n",
    "    .eval();\n",
    "\n",
    "  t_StatefulPartitionedCallmy_modelconv2dConv2DReadVariableOp0.free();\n",
    "\n",
    "  t_input_1_int80.free();\n",
    "\n",
    "  t_StatefulPartitionedCallmy_modelconv2dConv2D_bias0.free();\n",
    "\n",
    "  Tensor t_StatefulPartitionedCallmy_modelmax_pooling2dMaxPool0 = new RamTensor({ 1, 5, 5, 32 }, i8);\n",
    "    int32_t t_StatefulPartitionedCallmy_modelmax_pooling2dMaxPool0_zp = -128;\n",
    "    float t_StatefulPartitionedCallmy_modelmax_pooling2dMaxPool0_scale = 0.0058112345;\n",
    "    PerTensorQuantizationParams t_StatefulPartitionedCallmy_modelmax_pooling2dMaxPool0_quant_params(t_StatefulPartitionedCallmy_modelmax_pooling2dMaxPool0_zp, t_StatefulPartitionedCallmy_modelmax_pooling2dMaxPool0_scale);\n",
    "    t_StatefulPartitionedCallmy_modelmax_pooling2dMaxPool0->set_quantization_params(t_StatefulPartitionedCallmy_modelmax_pooling2dMaxPool0_quant_params);\n",
    "\n",
    "\n",
    "  op_005\n",
    "    .set_inputs({\n",
    "        { ReferenceOperators::MaxPoolOperator<int8_t>::in, t_StatefulPartitionedCallmy_modelconv2dRelu0 },\n",
    "    })\n",
    "    .set_outputs({\n",
    "        { ReferenceOperators::MaxPoolOperator<int8_t>::out, t_StatefulPartitionedCallmy_modelmax_pooling2dMaxPool0}\n",
    "    })\n",
    "    .eval();\n",
    "\n",
    "  t_StatefulPartitionedCallmy_modelconv2dRelu0.free();\n",
    "\n",
    "  Tensor t_StatefulPartitionedCallmy_modelmax_pooling2dMaxPool_0_Reshape00 = new RamTensor({ 1, 800 }, i8);\n",
    "    int32_t t_StatefulPartitionedCallmy_modelmax_pooling2dMaxPool_0_Reshape00_zp = -128;\n",
    "    float t_StatefulPartitionedCallmy_modelmax_pooling2dMaxPool_0_Reshape00_scale = 0.0058112345;\n",
    "    PerTensorQuantizationParams t_StatefulPartitionedCallmy_modelmax_pooling2dMaxPool_0_Reshape00_quant_params(t_StatefulPartitionedCallmy_modelmax_pooling2dMaxPool_0_Reshape00_zp, t_StatefulPartitionedCallmy_modelmax_pooling2dMaxPool_0_Reshape00_scale);\n",
    "    t_StatefulPartitionedCallmy_modelmax_pooling2dMaxPool_0_Reshape00->set_quantization_params(t_StatefulPartitionedCallmy_modelmax_pooling2dMaxPool_0_Reshape00_quant_params);\n",
    "\n",
    "\n",
    "  op_002\n",
    "    .set_inputs({\n",
    "        { ReferenceOperators::ReshapeOperator<int8_t>::input, t_StatefulPartitionedCallmy_modelmax_pooling2dMaxPool0 },\n",
    "    })\n",
    "    .set_outputs({\n",
    "        { ReferenceOperators::ReshapeOperator<int8_t>::output, t_StatefulPartitionedCallmy_modelmax_pooling2dMaxPool_0_Reshape00}\n",
    "    })\n",
    "    .eval();\n",
    "\n",
    "  t_StatefulPartitionedCallmy_modelmax_pooling2dMaxPool0.free();\n",
    "\n",
    "  Tensor t_StatefulPartitionedCallmy_modeldenseMatMulReadVariableOptranspose0 = new RomTensor({ 800, 32 }, i8, data_StatefulPartitionedCall_my_model_dense_MatMul_ReadVariableOp_transpose_0);\n",
    "    int32_t t_StatefulPartitionedCallmy_modeldenseMatMulReadVariableOptranspose0_zp = 0;\n",
    "    float t_StatefulPartitionedCallmy_modeldenseMatMulReadVariableOptranspose0_scale = 0.004301873;\n",
    "    PerTensorQuantizationParams t_StatefulPartitionedCallmy_modeldenseMatMulReadVariableOptranspose0_quant_params(t_StatefulPartitionedCallmy_modeldenseMatMulReadVariableOptranspose0_zp, t_StatefulPartitionedCallmy_modeldenseMatMulReadVariableOptranspose0_scale);\n",
    "    t_StatefulPartitionedCallmy_modeldenseMatMulReadVariableOptranspose0->set_quantization_params(t_StatefulPartitionedCallmy_modeldenseMatMulReadVariableOptranspose0_quant_params);\n",
    "\n",
    "\n",
    "  Tensor t_StatefulPartitionedCallmy_modeldenseMatMul_bias0 = new RomTensor({ 32 }, i32, data_StatefulPartitionedCall_my_model_dense_MatMul_bias_0);\n",
    "    int32_t t_StatefulPartitionedCallmy_modeldenseMatMul_bias0_zp = 0;\n",
    "    float t_StatefulPartitionedCallmy_modeldenseMatMul_bias0_scale = 2.4999194e-05;\n",
    "    PerTensorQuantizationParams t_StatefulPartitionedCallmy_modeldenseMatMul_bias0_quant_params(t_StatefulPartitionedCallmy_modeldenseMatMul_bias0_zp, t_StatefulPartitionedCallmy_modeldenseMatMul_bias0_scale);\n",
    "    t_StatefulPartitionedCallmy_modeldenseMatMul_bias0->set_quantization_params(t_StatefulPartitionedCallmy_modeldenseMatMul_bias0_quant_params);\n",
    "\n",
    "\n",
    "  Tensor t_StatefulPartitionedCallmy_modeldenseRelu0 = new RamTensor({ 1, 32 }, i8);\n",
    "    int32_t t_StatefulPartitionedCallmy_modeldenseRelu0_zp = -128;\n",
    "    float t_StatefulPartitionedCallmy_modeldenseRelu0_scale = 0.060061626;\n",
    "    PerTensorQuantizationParams t_StatefulPartitionedCallmy_modeldenseRelu0_quant_params(t_StatefulPartitionedCallmy_modeldenseRelu0_zp, t_StatefulPartitionedCallmy_modeldenseRelu0_scale);\n",
    "    t_StatefulPartitionedCallmy_modeldenseRelu0->set_quantization_params(t_StatefulPartitionedCallmy_modeldenseRelu0_quant_params);\n",
    "\n",
    "\n",
    "  op_003\n",
    "    .set_inputs({\n",
    "        { TflmSymQuantOps::FullyConnectedOperator<int8_t>::input, t_StatefulPartitionedCallmy_modelmax_pooling2dMaxPool_0_Reshape00 },\n",
    "        { TflmSymQuantOps::FullyConnectedOperator<int8_t>::filter, t_StatefulPartitionedCallmy_modeldenseMatMulReadVariableOptranspose0 },\n",
    "        { TflmSymQuantOps::FullyConnectedOperator<int8_t>::bias, t_StatefulPartitionedCallmy_modeldenseMatMul_bias0 },\n",
    "    })\n",
    "    .set_outputs({\n",
    "        { TflmSymQuantOps::FullyConnectedOperator<int8_t>::output, t_StatefulPartitionedCallmy_modeldenseRelu0}\n",
    "    })\n",
    "    .eval();\n",
    "\n",
    "  t_StatefulPartitionedCallmy_modeldenseMatMul_bias0.free();\n",
    "\n",
    "  t_StatefulPartitionedCallmy_modelmax_pooling2dMaxPool_0_Reshape00.free();\n",
    "\n",
    "  t_StatefulPartitionedCallmy_modeldenseMatMulReadVariableOptranspose0.free();\n",
    "\n",
    "  Tensor t_StatefulPartitionedCallmy_modeldense_1MatMulReadVariableOptranspose0 = new RomTensor({ 32, 10 }, i8, data_StatefulPartitionedCall_my_model_dense_1_MatMul_ReadVariableOp_transpose_0);\n",
    "    int32_t t_StatefulPartitionedCallmy_modeldense_1MatMulReadVariableOptranspose0_zp = 0;\n",
    "    float t_StatefulPartitionedCallmy_modeldense_1MatMulReadVariableOptranspose0_scale = 0.0049738125;\n",
    "    PerTensorQuantizationParams t_StatefulPartitionedCallmy_modeldense_1MatMulReadVariableOptranspose0_quant_params(t_StatefulPartitionedCallmy_modeldense_1MatMulReadVariableOptranspose0_zp, t_StatefulPartitionedCallmy_modeldense_1MatMulReadVariableOptranspose0_scale);\n",
    "    t_StatefulPartitionedCallmy_modeldense_1MatMulReadVariableOptranspose0->set_quantization_params(t_StatefulPartitionedCallmy_modeldense_1MatMulReadVariableOptranspose0_quant_params);\n",
    "\n",
    "\n",
    "  Tensor t_StatefulPartitionedCallmy_modeldense_1MatMul_bias0 = new RomTensor({ 10 }, i32, data_StatefulPartitionedCall_my_model_dense_1_MatMul_bias_0);\n",
    "    int32_t t_StatefulPartitionedCallmy_modeldense_1MatMul_bias0_zp = 0;\n",
    "    float t_StatefulPartitionedCallmy_modeldense_1MatMul_bias0_scale = 0.00029873528;\n",
    "    PerTensorQuantizationParams t_StatefulPartitionedCallmy_modeldense_1MatMul_bias0_quant_params(t_StatefulPartitionedCallmy_modeldense_1MatMul_bias0_zp, t_StatefulPartitionedCallmy_modeldense_1MatMul_bias0_scale);\n",
    "    t_StatefulPartitionedCallmy_modeldense_1MatMul_bias0->set_quantization_params(t_StatefulPartitionedCallmy_modeldense_1MatMul_bias0_quant_params);\n",
    "\n",
    "\n",
    "  Tensor t_Identity_int80 = new RamTensor({ 1, 10 }, i8);\n",
    "    int32_t t_Identity_int80_zp = 4;\n",
    "    float t_Identity_int80_scale = 0.13305335;\n",
    "    PerTensorQuantizationParams t_Identity_int80_quant_params(t_Identity_int80_zp, t_Identity_int80_scale);\n",
    "    t_Identity_int80->set_quantization_params(t_Identity_int80_quant_params);\n",
    "\n",
    "\n",
    "  op_001\n",
    "    .set_inputs({\n",
    "        { TflmSymQuantOps::FullyConnectedOperator<int8_t>::input, t_StatefulPartitionedCallmy_modeldenseRelu0 },\n",
    "        { TflmSymQuantOps::FullyConnectedOperator<int8_t>::filter, t_StatefulPartitionedCallmy_modeldense_1MatMulReadVariableOptranspose0 },\n",
    "        { TflmSymQuantOps::FullyConnectedOperator<int8_t>::bias, t_StatefulPartitionedCallmy_modeldense_1MatMul_bias0 },\n",
    "    })\n",
    "    .set_outputs({\n",
    "        { TflmSymQuantOps::FullyConnectedOperator<int8_t>::output, t_Identity_int80}\n",
    "    })\n",
    "    .eval();\n",
    "\n",
    "  t_StatefulPartitionedCallmy_modeldenseRelu0.free();\n",
    "\n",
    "  t_StatefulPartitionedCallmy_modeldense_1MatMul_bias0.free();\n",
    "\n",
    "  t_StatefulPartitionedCallmy_modeldense_1MatMulReadVariableOptranspose0.free();\n",
    "\n",
    "  op_006\n",
    "    .set_inputs({\n",
    "        { TflmSymQuantOps::DequantizeOperator<float, int8_t>::a, t_Identity_int80 },\n",
    "    })\n",
    "    .set_outputs({\n",
    "        { TflmSymQuantOps::DequantizeOperator<float, int8_t>::b, outputs[output_0].tensor()}\n",
    "    })\n",
    "    .eval();\n",
    "\n",
    "  t_Identity_int80.free();\n",
    "  // end of rendering local snippets\n",
    "}\n",
    "```"
   ]
  },
  {
   "cell_type": "markdown",
   "metadata": {},
   "source": [
    "### The input data: `input_image.h`"
   ]
  },
  {
   "cell_type": "markdown",
   "metadata": {},
   "source": [
    "```cpp\n",
    "// the input image pixel values, 28x28 image is flattened into a 1D array\n",
    "const float arr_input_image[784] = {\n",
    "  0.0, 0.0, 0.0, 0.0, 0.0, 0.0, 0.0, 0.0, 0.0, 0.0, 0.0, 0.0, 0.0, 0.0, 0.0, 0.0, 0.0, 0.0, \n",
    "  0.0, 0.0, 0.0, 0.0, 0.0, 0.0, 0.0, 0.0, 0.0, 0.0, 0.0, 0.0, 0.0, 0.0, 0.0, 0.0, 0.0, 0.0,\n",
    "  0.0, 0.0, 0.0, 0.0, 0.0, 0.0, 0.0, 0.0, 0.0, 0.0, 0.0, 0.0, 0.0, 0.0, 0.0, 0.0, 0.0, 0.0,\n",
    "  0.0, 0.0, 0.0, 0.0, 0.0, 0.0, 0.0, 0.0, 0.0, 0.0, 0.0, 0.0, 0.0, 0.0, 0.0, 0.0, 0.0, 0.0, \n",
    "  0.0, 0.0, 0.0, 0.0, 0.0, 0.0, 0.0, 0.0, 0.0, 0.0, 0.0, 0.0, 0.0, 0.0, 0.0, 0.0, 0.0, 0.0, \n",
    "  0.0, 0.0, 0.0, 0.0, 0.0, 0.0, 0.0, 0.0, 0.0, 0.0, 0.0, 0.0, 0.0, 0.0, 0.0, 0.0, 0.0, 0.0, \n",
    "  0.0, 0.0, 0.0, 0.0, 0.0, 0.0, 0.0, 0.0, 0.0, 0.0, 0.0, 0.0, 0.0, 0.0, 0.0, 0.0, 0.0, 0.0, \n",
    "  0.0, 0.0, 0.0, 0.0, 0.0, 0.0, 0.0, 0.0, 0.0, 0.0, 0.0, 0.0, 0.0, 0.0, 0.0, 0.0, 0.0, 0.0, \n",
    "  0.0, 0.0, 0.0, 0.0, 0.0, 0.0, 0.0, 0.0, 0.0, 0.0, 0.0, 0.0, 0.0, 0.0, 0.0, 0.0, 0.0, 0.0, \n",
    "  0.0, 0.0, 0.0, 0.0, 0.0, 0.0, 0.0, 0.0, 0.0, 0.0, 0.0, 0.0, 0.0, 0.0, 0.0, 0.0, 0.0, 0.0, \n",
    "  0.0, 0.0, 0.0, 0.0, 0.0, 0.0, 0.0, 0.0, 0.0, 0.0, 0.0, 0.0, 0.0, 0.0, 0.0, 0.0, 0.0, 0.0, \n",
    "  0.0, 0.0, 0.0, 0.0, 0.32941176470588235, 0.7254901960784313, 0.6235294117647059, 0.592156862745098, \n",
    "  0.23529411764705882, 0.1411764705882353, 0.0, 0.0, 0.0, 0.0, 0.0, 0.0, 0.0, 0.0, 0.0, 0.0, 0.0, 0.0, 0.0, \n",
    "  0.0, 0.0, 0.0, 0.0, 0.0, 0.0, 0.0, 0.0, 0.0, 0.8705882352941177, 0.996078431372549, 0.996078431372549, \n",
    "  0.996078431372549, 0.996078431372549, 0.9450980392156862, 0.7764705882352941, 0.7764705882352941, 0.7764705882352941, \n",
    "  0.7764705882352941, 0.7764705882352941, 0.7764705882352941, 0.7764705882352941, 0.7764705882352941, \n",
    "  0.6666666666666666, 0.20392156862745098, 0.0, 0.0, 0.0, 0.0, 0.0, 0.0, 0.0, 0.0, 0.0, 0.0, 0.0, 0.0, 0.2627450980392157, \n",
    "  0.4470588235294118, 0.2823529411764706, 0.4470588235294118, 0.6392156862745098, 0.8901960784313725, 0.996078431372549, \n",
    "  .8823529411764706, 0.996078431372549, 0.996078431372549, 0.996078431372549, 0.9803921568627451, 0.8980392156862745, \n",
    "  0.996078431372549, 0.996078431372549, 0.5490196078431373, 0.0, 0.0, 0.0, 0.0, 0.0, 0.0, 0.0, 0.0, 0.0, 0.0, 0.0, 0.0, \n",
    "  0.0, 0.0, 0.0, 0.0, 0.0, 0.06666666666666667, 0.25882352941176473, 0.054901960784313725, 0.2627450980392157, 0.2627450980392157, \n",
    "  0.2627450980392157, 0.23137254901960785, 0.08235294117647059, 0.9254901960784314, 0.996078431372549, 0.41568627450980394, \n",
    "  0.0, 0.0, 0.0, 0.0, 0.0, 0.0, 0.0, 0.0, 0.0, 0.0, 0.0, 0.0, 0.0, 0.0, 0.0, 0.0, 0.0, 0.0, 0.0, 0.0, 0.0, 0.0, 0.0, 0.0, \n",
    "  0.3254901960784314, 0.9921568627450981, 0.8196078431372549, 0.07058823529411765, 0.0, 0.0, 0.0, 0.0, 0.0, 0.0, 0.0, 0.0, \n",
    "  0.0, 0.0, 0.0, 0.0, 0.0, 0.0, 0.0, 0.0, 0.0, 0.0, 0.0, 0.0, 0.0, 0.0, 0.0, 0.08627450980392157, 0.9137254901960784, 1.0, \n",
    "  0.3254901960784314, 0.0, 0.0, 0.0, 0.0, 0.0, 0.0, 0.0, 0.0, 0.0, 0.0, 0.0, 0.0, 0.0, 0.0, 0.0, 0.0, 0.0, 0.0, 0.0, 0.0, \n",
    "  0.0, 0.0, 0.0, 0.0, 0.5058823529411764, 0.996078431372549, 0.9333333333333333, 0.17254901960784313, 0.0, 0.0, 0.0, 0.0, \n",
    "  0.0, 0.0, 0.0, 0.0, 0.0, 0.0, 0.0, 0.0, 0.0, 0.0, 0.0, 0.0, 0.0, 0.0, 0.0, 0.0, 0.0, 0.0, 0.0, 0.23137254901960785, \n",
    "  0.9764705882352941, 0.996078431372549, 0.24313725490196078, 0.0, 0.0, 0.0, 0.0, 0.0, 0.0, 0.0, 0.0, 0.0, 0.0, 0.0, 0.0, \n",
    "  0.0, 0.0, 0.0, 0.0, 0.0, 0.0, 0.0, 0.0, 0.0, 0.0, 0.0, 0.0, 0.5215686274509804, 0.996078431372549, 0.7333333333333333, \n",
    "  0.0196078431372549, 0.0, 0.0, 0.0, 0.0, 0.0, 0.0, 0.0, 0.0, 0.0, 0.0, 0.0, 0.0, 0.0, 0.0, 0.0, 0.0, 0.0, 0.0, 0.0, 0.0, \n",
    "  0.0, 0.0, 0.0, 0.03529411764705882, 0.803921568627451, 0.9725490196078431, 0.22745098039215686, 0.0, 0.0, 0.0, 0.0, 0.0, \n",
    "  0.0, 0.0, 0.0, 0.0, 0.0, 0.0, 0.0, 0.0, 0.0, 0.0, 0.0, 0.0, 0.0, 0.0, 0.0, 0.0, 0.0, 0.0, 0.0, 0.49411764705882355, \n",
    "  0.996078431372549, 0.7137254901960784, 0.0, 0.0, 0.0, 0.0, 0.0, 0.0, 0.0, 0.0, 0.0, 0.0, 0.0, 0.0, 0.0, 0.0, 0.0, \n",
    "  0.0, 0.0, 0.0, 0.0, 0.0, 0.0, 0.0, 0.0, 0.0, 0.29411764705882354, 0.984313725490196, 0.9411764705882353, 0.2235294117647059, \n",
    "  0.0, 0.0, 0.0, 0.0, 0.0, 0.0, 0.0, 0.0, 0.0, 0.0, 0.0, 0.0, 0.0, 0.0, 0.0, 0.0, 0.0, 0.0, 0.0, 0.0, 0.0, 0.0, 0.0, 0.07450980392156863, \n",
    "  0.8666666666666667, 0.996078431372549, 0.6509803921568628, 0.0, 0.0, 0.0, 0.0, 0.0, 0.0, 0.0, 0.0, 0.0, 0.0, 0.0, 0.0, 0.0, 0.0, 0.0, \n",
    "  0.0, 0.0, 0.0, 0.0, 0.0, 0.0, 0.0, 0.0, 0.011764705882352941, 0.796078431372549, 0.996078431372549, 0.8588235294117647, 0.13725490196078433, \n",
    "  0.0, 0.0, 0.0, 0.0, 0.0, 0.0, 0.0, 0.0, 0.0, 0.0, 0.0, 0.0, 0.0, 0.0, 0.0, 0.0, 0.0, 0.0, 0.0, 0.0, 0.0, 0.0, 0.0, 0.14901960784313725, \n",
    "  0.996078431372549, 0.996078431372549, 0.30196078431372547, 0.0, 0.0, 0.0, 0.0, 0.0, 0.0, 0.0, 0.0, 0.0, 0.0, 0.0, 0.0, 0.0, 0.0, 0.0, \n",
    "  0.0, 0.0, 0.0, 0.0, 0.0, 0.0, 0.0, 0.0, 0.12156862745098039, 0.8784313725490196, 0.996078431372549, 0.45098039215686275, 0.00392156862745098, \n",
    "  0.0, 0.0, 0.0, 0.0, 0.0, 0.0, 0.0, 0.0, 0.0, 0.0, 0.0, 0.0, 0.0, 0.0, 0.0, 0.0, 0.0, 0.0, 0.0, 0.0, 0.0, 0.0, 0.0, 0.5215686274509804, \n",
    "  0.996078431372549, 0.996078431372549, 0.20392156862745098, 0.0, 0.0, 0.0, 0.0, 0.0, 0.0, 0.0, 0.0, 0.0, 0.0, 0.0, 0.0, 0.0, 0.0, 0.0, 0.0, \n",
    "  0.0, 0.0, 0.0, 0.0, 0.0, 0.0, 0.0, 0.23921568627450981, 0.9490196078431372, 0.996078431372549, 0.996078431372549, 0.20392156862745098, \n",
    "  0.0, 0.0, 0.0, 0.0, 0.0, 0.0, 0.0, 0.0, 0.0, 0.0, 0.0, 0.0, 0.0, 0.0, 0.0, 0.0, 0.0, 0.0, 0.0, 0.0, 0.0, 0.0, 0.0, 0.4745098039215686, \n",
    "  0.996078431372549, 0.996078431372549, 0.8588235294117647, 0.1568627450980392, 0.0, 0.0, 0.0, 0.0, 0.0, 0.0, 0.0, 0.0, 0.0, 0.0, 0.0, \n",
    "  0.0, 0.0, 0.0, 0.0, 0.0, 0.0, 0.0, 0.0, 0.0, 0.0, 0.0, 0.0, 0.4745098039215686, 0.996078431372549, 0.8117647058823529, 0.07058823529411765, \n",
    "  0.0, 0.0, 0.0, 0.0, 0.0, 0.0, 0.0, 0.0, 0.0, 0.0, 0.0, 0.0, 0.0, 0.0, 0.0, 0.0, 0.0, 0.0, 0.0, 0.0, 0.0, 0.0, 0.0, 0.0, 0.0, 0.0, 0.0, 0.0, \n",
    "  0.0, 0.0, 0.0, 0.0, 0.0, 0.0, 0.0, 0.0, 0.0, 0.0, 0.0, 0.0, 0.0, 0.0 };\n",
    "```"
   ]
  },
  {
   "cell_type": "markdown",
   "metadata": {},
   "source": [
    "### Write `main.cpp`"
   ]
  },
  {
   "cell_type": "markdown",
   "metadata": {},
   "source": [
    "```cpp\n",
    "#include <cmath>\n",
    "#include <iostream>\n",
    "\n",
    "// include the model header and uTensor\n",
    "#include \"models/model/model.hpp\"\n",
    "// include the input image data for this demo\n",
    "#include \"input_image.h\"\n",
    "#include \"uTensor.h\"\n",
    "\n",
    "using namespace uTensor;\n",
    "\n",
    "using std::cout;\n",
    "using std::endl;\n",
    "\n",
    "\n",
    "int main(int argc, const char** argv) {\n",
    "  My_model model;\n",
    "  // create the input/output tensor\n",
    "  Tensor input_image = new RomTensor({1, 28, 28, 1}, flt, arr_input_image);\n",
    "  Tensor logits = new RamTensor({1, 10}, flt);\n",
    "  \n",
    "  // setup inputs/outputs and eval\n",
    "  model\n",
    "    .set_inputs(\n",
    "      {{My_model::input_0, input_image}})\n",
    "    .set_outputs({{Model::output_0, logits}})\n",
    "    .eval();\n",
    "  float max_value = static_cast<float>(logits(0));\n",
    "  int max_index = 0;\n",
    "  for (int i = 1; i < 10; ++i) {\n",
    "    float value = static_cast<float>(logits(i));\n",
    "    if (value >= max_value) {\n",
    "      max_value = value;\n",
    "      max_index = i;\n",
    "    }\n",
    "  }\n",
    "  cout << \"pred label: \" << max_index << endl;\n",
    "  return 0;\n",
    "}\n",
    "```"
   ]
  },
  {
   "cell_type": "markdown",
   "metadata": {},
   "source": [
    "### Compile and Run\n",
    "\n",
    "![end2end-output](images/end2end_keras_output.png)"
   ]
  },
  {
   "cell_type": "code",
   "execution_count": null,
   "metadata": {},
   "outputs": [],
   "source": []
  }
 ],
 "metadata": {
  "kernelspec": {
   "display_name": "utensor",
   "language": "python",
   "name": "utensor"
  },
  "language_info": {
   "codemirror_mode": {
    "name": "ipython",
    "version": 3
   },
   "file_extension": ".py",
   "mimetype": "text/x-python",
   "name": "python",
   "nbconvert_exporter": "python",
   "pygments_lexer": "ipython3",
   "version": "3.7.2"
  },
  "toc": {
   "base_numbering": 1,
   "nav_menu": {},
   "number_sections": true,
   "sideBar": true,
   "skip_h1_title": false,
   "title_cell": "Table of Contents",
   "title_sidebar": "Contents",
   "toc_cell": false,
   "toc_position": {},
   "toc_section_display": true,
   "toc_window_display": false
  }
 },
 "nbformat": 4,
 "nbformat_minor": 4
}
