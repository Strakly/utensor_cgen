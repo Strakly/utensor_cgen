{
 "cells": [
  {
   "cell_type": "markdown",
   "metadata": {},
   "source": [
    "## Write You Own Frontend Parser for `utensor_cgen`\n",
    "\n",
    "- Goal: write a parser which can parse a txt file\n",
    "- the format of the txt file\n",
    "```\n",
    "<op_name> <value>\n",
    "```\n",
    "- To simplify the tutorial, we only support `Const` operator\n",
    "- the `value` field is a python expression, such as `[1, 2, 3]`"
   ]
  },
  {
   "cell_type": "code",
   "execution_count": 1,
   "metadata": {
    "ExecuteTime": {
     "end_time": "2020-05-27T07:49:09.156187Z",
     "start_time": "2020-05-27T07:49:06.744918Z"
    }
   },
   "outputs": [],
   "source": [
    "import os\n",
    "\n",
    "import numpy as np\n",
    "\n",
    "from utensor_cgen.frontend import FrontendSelector, Parser\n",
    "from utensor_cgen.ir import OperationInfo, TensorInfo, uTensorGraph\n",
    "from utensor_cgen.ir.converter import (AttrValueConverter,\n",
    "                                       GenericTensorConverterMixin)\n",
    "from utensor_cgen.utils import topologic_order_graph"
   ]
  },
  {
   "cell_type": "markdown",
   "metadata": {},
   "source": [
    "## The `Parser` Interface\n",
    "\n",
    "- must overwrite `parse` method with signature `parse(model_file, output_nodes, *args, **kwargs)`\n",
    "    - that is, the first argument must be model file and the second arguement must be output nodes\n",
    "    - in some parser, `output_nodes` can be optional. It recommended to set it to `None`\n",
    "- Register the parser with `FrontendSelector.register`\n",
    "    - the first argument of `FrontendSelector.register` should be a list of file extensions, such as `['.pb', '.pbtxt']`.\n",
    "    - In this tutorial, our target file is txt so the target extensions list is `['.txt']`\n",
    "- If you register a parser to a file extension that has been registered with other parsers, an error will be raised. To disable this, you must explicit pass `overwrite=True` in the register decorator"
   ]
  },
  {
   "cell_type": "code",
   "execution_count": 2,
   "metadata": {
    "ExecuteTime": {
     "end_time": "2020-05-27T07:49:09.174987Z",
     "start_time": "2020-05-27T07:49:09.158906Z"
    }
   },
   "outputs": [],
   "source": [
    "@FrontendSelector.register(['.txt'], overwrite=True)\n",
    "class TxtParser(Parser):\n",
    "    def parse(self, txt_file, output_nodes=None):\n",
    "        graph_name, _ = os.path.splitext(\n",
    "            os.path.basename(txt_file)\n",
    "        )\n",
    "        if output_nodes is None:\n",
    "            output_nodes = []\n",
    "        add_all_nodes = not output_nodes\n",
    "        ugraph = uTensorGraph(name=graph_name, output_nodes=output_nodes, lib_name='txtlib')\n",
    "        with open(txt_file, 'r') as fid:\n",
    "            # read lines\n",
    "            for line in fid:\n",
    "                try:\n",
    "                    op_name, value = line.split(' ', maxsplit=1)\n",
    "                except Exception:\n",
    "                    raise ValueError('invalid line: {}'.format(line))\n",
    "                value = np.array(eval(value))\n",
    "                # construct tensors\n",
    "                out_tensor = TensorInfo(\n",
    "                    '{}:0'.format(op_name),\n",
    "                    op_name,\n",
    "                    dtype=value.dtype,\n",
    "                    shape=list(value.shape),\n",
    "                    ugraph=ugraph\n",
    "                )\n",
    "                # construct ops\n",
    "                op_info = OperationInfo(\n",
    "                    name=op_name,\n",
    "                    lib_name='txtlib',\n",
    "                    ugraph=ugraph,\n",
    "                    input_tensors=[],\n",
    "                    output_tensors=[out_tensor],\n",
    "                    op_type='Const',\n",
    "                    op_attr={\n",
    "                        \"value\": AttrValueConverter.GenericType(\n",
    "                            value_name=\"tensor\",\n",
    "                            value=GenericTensorConverterMixin.GenericType(\n",
    "                                np_array=value\n",
    "                            ),\n",
    "                        )\n",
    "                    }\n",
    "                )\n",
    "                if add_all_nodes:\n",
    "                    ugraph.output_nodes.append(op_name)\n",
    "        # topologically sort the graph\n",
    "        # this will update `ugraph.topo_order`\n",
    "        topologic_order_graph(ugraph)\n",
    "        return ugraph"
   ]
  },
  {
   "cell_type": "code",
   "execution_count": 3,
   "metadata": {
    "ExecuteTime": {
     "end_time": "2020-05-27T07:49:09.190879Z",
     "start_time": "2020-05-27T07:49:09.181825Z"
    }
   },
   "outputs": [],
   "source": [
    "parser = TxtParser({})"
   ]
  },
  {
   "cell_type": "code",
   "execution_count": 4,
   "metadata": {
    "ExecuteTime": {
     "end_time": "2020-05-27T07:49:09.206788Z",
     "start_time": "2020-05-27T07:49:09.196466Z"
    }
   },
   "outputs": [],
   "source": [
    "ugraph = parser.parse('models/consts_model.txt')"
   ]
  },
  {
   "cell_type": "code",
   "execution_count": 5,
   "metadata": {
    "ExecuteTime": {
     "end_time": "2020-05-27T07:49:10.076986Z",
     "start_time": "2020-05-27T07:49:10.064844Z"
    }
   },
   "outputs": [
    {
     "data": {
      "text/plain": [
       "uTensorGraph(name='consts_model', output_nodes=['x', 'y'], _lib_name='txtlib', ops_info={'x': ('x', 'Const'), 'y': ('y', 'Const')}, topo_order=['x', 'y'])"
      ]
     },
     "execution_count": 5,
     "metadata": {},
     "output_type": "execute_result"
    }
   ],
   "source": [
    "ugraph"
   ]
  },
  {
   "cell_type": "code",
   "execution_count": 6,
   "metadata": {
    "ExecuteTime": {
     "end_time": "2020-05-27T07:49:11.365710Z",
     "start_time": "2020-05-27T07:49:11.007723Z"
    }
   },
   "outputs": [],
   "source": [
    "# simple visualization\n",
    "from utensor_cgen.ir.misc.graph_viz import viz_graph"
   ]
  },
  {
   "cell_type": "code",
   "execution_count": 7,
   "metadata": {
    "ExecuteTime": {
     "end_time": "2020-05-27T07:49:11.471448Z",
     "start_time": "2020-05-27T07:49:11.368113Z"
    }
   },
   "outputs": [
    {
     "data": {
      "image/svg+xml": [
       "<?xml version=\"1.0\" encoding=\"UTF-8\" standalone=\"no\"?>\n",
       "<!DOCTYPE svg PUBLIC \"-//W3C//DTD SVG 1.1//EN\"\n",
       " \"http://www.w3.org/Graphics/SVG/1.1/DTD/svg11.dtd\">\n",
       "<!-- Generated by graphviz version 2.43.0 (0)\n",
       " -->\n",
       "<!-- Title: %3 Pages: 1 -->\n",
       "<svg width=\"186pt\" height=\"116pt\"\n",
       " viewBox=\"0.00 0.00 185.67 116.00\" xmlns=\"http://www.w3.org/2000/svg\" xmlns:xlink=\"http://www.w3.org/1999/xlink\">\n",
       "<g id=\"graph0\" class=\"graph\" transform=\"scale(1 1) rotate(0) translate(4 112)\">\n",
       "<title>%3</title>\n",
       "<polygon fill=\"white\" stroke=\"transparent\" points=\"-4,4 -4,-112 181.67,-112 181.67,4 -4,4\"/>\n",
       "<!-- a_ -->\n",
       "<g id=\"node1\" class=\"node\">\n",
       "<title>a_</title>\n",
       "<ellipse fill=\"none\" stroke=\"black\" cx=\"39.84\" cy=\"-90\" rx=\"39.67\" ry=\"18\"/>\n",
       "<text text-anchor=\"middle\" x=\"39.84\" y=\"-85.8\" font-family=\"Times,serif\" font-size=\"14.00\">x: Const</text>\n",
       "</g>\n",
       "<!-- b_ -->\n",
       "<g id=\"node2\" class=\"node\">\n",
       "<title>b_</title>\n",
       "<polygon fill=\"none\" stroke=\"black\" points=\"79.27,-36 0.41,-36 0.41,0 79.27,0 79.27,-36\"/>\n",
       "<text text-anchor=\"middle\" x=\"39.84\" y=\"-13.8\" font-family=\"Times,serif\" font-size=\"14.00\">x:0: Tensor</text>\n",
       "</g>\n",
       "<!-- a_&#45;&gt;b_ -->\n",
       "<g id=\"edge1\" class=\"edge\">\n",
       "<title>a_&#45;&gt;b_</title>\n",
       "<path fill=\"none\" stroke=\"black\" d=\"M39.84,-71.7C39.84,-63.98 39.84,-54.71 39.84,-46.11\"/>\n",
       "<polygon fill=\"black\" stroke=\"black\" points=\"43.34,-46.1 39.84,-36.1 36.34,-46.1 43.34,-46.1\"/>\n",
       "</g>\n",
       "<!-- c_ -->\n",
       "<g id=\"node3\" class=\"node\">\n",
       "<title>c_</title>\n",
       "<ellipse fill=\"none\" stroke=\"black\" cx=\"137.84\" cy=\"-90\" rx=\"39.67\" ry=\"18\"/>\n",
       "<text text-anchor=\"middle\" x=\"137.84\" y=\"-85.8\" font-family=\"Times,serif\" font-size=\"14.00\">y: Const</text>\n",
       "</g>\n",
       "<!-- d_ -->\n",
       "<g id=\"node4\" class=\"node\">\n",
       "<title>d_</title>\n",
       "<polygon fill=\"none\" stroke=\"black\" points=\"177.27,-36 98.41,-36 98.41,0 177.27,0 177.27,-36\"/>\n",
       "<text text-anchor=\"middle\" x=\"137.84\" y=\"-13.8\" font-family=\"Times,serif\" font-size=\"14.00\">y:0: Tensor</text>\n",
       "</g>\n",
       "<!-- c_&#45;&gt;d_ -->\n",
       "<g id=\"edge2\" class=\"edge\">\n",
       "<title>c_&#45;&gt;d_</title>\n",
       "<path fill=\"none\" stroke=\"black\" d=\"M137.84,-71.7C137.84,-63.98 137.84,-54.71 137.84,-46.11\"/>\n",
       "<polygon fill=\"black\" stroke=\"black\" points=\"141.34,-46.1 137.84,-36.1 134.34,-46.1 141.34,-46.1\"/>\n",
       "</g>\n",
       "</g>\n",
       "</svg>\n"
      ],
      "text/plain": [
       "<graphviz.dot.Digraph at 0x138892208>"
      ]
     },
     "execution_count": 7,
     "metadata": {},
     "output_type": "execute_result"
    }
   ],
   "source": [
    "viz_graph(ugraph)"
   ]
  },
  {
   "cell_type": "code",
   "execution_count": null,
   "metadata": {},
   "outputs": [],
   "source": []
  }
 ],
 "metadata": {
  "kernelspec": {
   "display_name": "utensor",
   "language": "python",
   "name": "utensor"
  },
  "language_info": {
   "codemirror_mode": {
    "name": "ipython",
    "version": 3
   },
   "file_extension": ".py",
   "mimetype": "text/x-python",
   "name": "python",
   "nbconvert_exporter": "python",
   "pygments_lexer": "ipython3",
   "version": "3.7.2"
  },
  "toc": {
   "base_numbering": 1,
   "nav_menu": {},
   "number_sections": true,
   "sideBar": true,
   "skip_h1_title": false,
   "title_cell": "Table of Contents",
   "title_sidebar": "Contents",
   "toc_cell": false,
   "toc_position": {},
   "toc_section_display": true,
   "toc_window_display": false
  }
 },
 "nbformat": 4,
 "nbformat_minor": 4
}
