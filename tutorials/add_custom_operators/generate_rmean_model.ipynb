{
 "cells": [
  {
   "cell_type": "code",
   "execution_count": null,
   "metadata": {},
   "outputs": [],
   "source": [
    "import numpy as np\n",
    "import tensorflow as tf"
   ]
  },
  {
   "cell_type": "markdown",
   "metadata": {},
   "source": [
    "## Define a Reduction Mean operator\n",
    "\n",
    "This layer behaves like the numpy mean operator:\n",
    "https://numpy.org/doc/stable/reference/generated/numpy.mean.html"
   ]
  },
  {
   "cell_type": "code",
   "execution_count": null,
   "metadata": {},
   "outputs": [],
   "source": [
    "class ReductionMean(tf.keras.layers.Layer):\n",
    "    def __init__(self, axis=None):\n",
    "        super(ReductionMean, self).__init__()\n",
    "        self.axis = axis\n",
    "        #self.name = name\n",
    "\n",
    "    def call(self, x):\n",
    "        return tf.math.reduce_mean(x, axis=self.axis)\n"
   ]
  },
  {
   "cell_type": "markdown",
   "metadata": {},
   "source": [
    "## Define a model\n",
    "This model has a single Reduction Mean layer and is always set to reduce along `axis=2`. Since it's not being trained we will need to provide an example input so export knows the shape of expected inputs."
   ]
  },
  {
   "cell_type": "code",
   "execution_count": null,
   "metadata": {},
   "outputs": [],
   "source": [
    "class MyModel(tf.keras.Model):\n",
    "    def __init__(self):\n",
    "        super(MyModel, self).__init__()\n",
    "        self.mean = ReductionMean(axis=2)\n",
    "    def call(self, x):\n",
    "        return self.mean(x)"
   ]
  },
  {
   "cell_type": "markdown",
   "metadata": {},
   "source": [
    "## Construct an example model for export"
   ]
  },
  {
   "cell_type": "code",
   "execution_count": null,
   "metadata": {},
   "outputs": [],
   "source": [
    "model = MyModel()\n",
    "x = np.random.uniform(size=(5,5,5,5)).astype(np.float32)\n",
    "model._set_inputs(x)"
   ]
  },
  {
   "cell_type": "markdown",
   "metadata": {},
   "source": [
    "## Export to TFLite file"
   ]
  },
  {
   "cell_type": "code",
   "execution_count": null,
   "metadata": {},
   "outputs": [],
   "source": [
    "converter = tf.lite.TFLiteConverter.from_keras_model(model)\n",
    "tflitemodel = converter.convert()\n",
    "with open(\"tf_models/reduceModel.tflite\", \"wb\") as fp:\n",
    "    fp.write(converter.convert())"
   ]
  }
 ],
 "metadata": {
  "kernelspec": {
   "display_name": "Python 3",
   "language": "python",
   "name": "python3"
  },
  "language_info": {
   "codemirror_mode": {
    "name": "ipython",
    "version": 3
   },
   "file_extension": ".py",
   "mimetype": "text/x-python",
   "name": "python",
   "nbconvert_exporter": "python",
   "pygments_lexer": "ipython3",
   "version": "3.7.6"
  }
 },
 "nbformat": 4,
 "nbformat_minor": 4
}
